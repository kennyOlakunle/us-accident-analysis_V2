{
  "cells": [
    {
      "cell_type": "code",
      "execution_count": 1,
      "metadata": {
        "colab": {
          "base_uri": "https://localhost:8080/"
        },
        "id": "5Ueh7BBlMxbG",
        "outputId": "f9c66c09-483a-4ee9-85dd-9558c44f11a0"
      },
      "outputs": [
        {
          "name": "stdout",
          "output_type": "stream",
          "text": [
            "\u001b[?25l\r\u001b[K     |████▊                           | 10 kB 20.2 MB/s eta 0:00:01\r\u001b[K     |█████████▌                      | 20 kB 9.2 MB/s eta 0:00:01\r\u001b[K     |██████████████▎                 | 30 kB 12.5 MB/s eta 0:00:01\r\u001b[K     |███████████████████             | 40 kB 9.0 MB/s eta 0:00:01\r\u001b[K     |███████████████████████▉        | 51 kB 7.0 MB/s eta 0:00:01\r\u001b[K     |████████████████████████████▋   | 61 kB 8.2 MB/s eta 0:00:01\r\u001b[K     |████████████████████████████████| 68 kB 3.8 MB/s \n",
            "\u001b[?25h  Building wheel for uuid (setup.py) ... \u001b[?25l\u001b[?25hdone\n"
          ]
        }
      ],
      "source": [
        "# Jovian Commit Essentials\n",
        "# Please retain and execute this cell without modifying the contents for `jovian.commit` to work\n",
        "!pip install jovian --upgrade -q\n",
        "import jovian\n",
        "jovian.set_project('us-accident-analysis')\n",
        "jovian.set_colab_id('1poUIEjxnC5thwVS4WnS3VFV0gUokX_Pu')"
      ]
    },
    {
      "cell_type": "markdown",
      "metadata": {
        "id": "IxwrC-4-MxbI"
      },
      "source": [
        "# US Accident Exploratory Data Analysis\n",
        "\n",
        "TODO - Talk about EDA\n",
        "TODO - Talk about dataset (source, what it contains and it will be useful)\n",
        "\n",
        "     - Kaggle\n",
        "     - Information abt accident\n",
        "     - Can be used to prevent accident\n",
        "     - Meniton that this does not contain value from New York"
      ]
    },
    {
      "cell_type": "code",
      "execution_count": 2,
      "metadata": {
        "id": "G5nsYGhNQnm5"
      },
      "outputs": [],
      "source": [
        "pip install opendatasets --upgrade --quiet"
      ]
    },
    {
      "cell_type": "code",
      "execution_count": 3,
      "metadata": {
        "colab": {
          "base_uri": "https://localhost:8080/"
        },
        "id": "2ycytevuRLAi",
        "outputId": "33cd5cd0-6027-493d-9c12-99e66a3adc73"
      },
      "outputs": [
        {
          "name": "stdout",
          "output_type": "stream",
          "text": [
            "Please provide your Kaggle credentials to download this dataset. Learn more: http://bit.ly/kaggle-creds\n",
            "Your Kaggle username: kehindeabe\n",
            "Your Kaggle Key: ··········\n",
            "Downloading us-accidents.zip to ./us-accidents\n"
          ]
        },
        {
          "name": "stderr",
          "output_type": "stream",
          "text": [
            "100%|██████████| 269M/269M [00:02<00:00, 102MB/s]\n"
          ]
        },
        {
          "name": "stdout",
          "output_type": "stream",
          "text": [
            "\n"
          ]
        }
      ],
      "source": [
        "import opendatasets as od\n",
        "download_url = 'https://www.kaggle.com/datasets/sobhanmoosavi/us-accidents'\n",
        "od.download(download_url)"
      ]
    },
    {
      "cell_type": "code",
      "execution_count": 4,
      "metadata": {
        "id": "9SeZdCveTVMV"
      },
      "outputs": [],
      "source": [
        "data_filename = './us-accidents/US_Accidents_Dec21_updated.csv'"
      ]
    },
    {
      "cell_type": "code",
      "execution_count": 5,
      "metadata": {
        "id": "J6yW5_rpMxbI"
      },
      "outputs": [],
      "source": [
        "#!pip install jovian --upgrade --quiet"
      ]
    },
    {
      "cell_type": "markdown",
      "metadata": {
        "id": "5qIsINwOOc0q"
      },
      "source": [
        "##Data Preparation and cleaning\n",
        "\n",
        "1. Load the file using pandas\n",
        "2. Look as some information about the data and the columns\n",
        "3. Fix any missing or incorrect values\n"
      ]
    },
    {
      "cell_type": "code",
      "execution_count": 6,
      "metadata": {
        "id": "W9ZFjaOpOTfS"
      },
      "outputs": [],
      "source": [
        "import pandas as pd"
      ]
    },
    {
      "cell_type": "code",
      "execution_count": 7,
      "metadata": {
        "id": "y1jfwJV0OTcS"
      },
      "outputs": [],
      "source": [
        "df = pd.read_csv(data_filename)"
      ]
    },
    {
      "cell_type": "code",
      "execution_count": 8,
      "metadata": {
        "colab": {
          "base_uri": "https://localhost:8080/",
          "height": 939
        },
        "id": "blcty3rZV0ri",
        "outputId": "ab700614-13a3-4350-9a63-fe5fe0f1f427"
      },
      "outputs": [
        {
          "data": {
            "text/html": [
              "\n",
              "  <div id=\"df-7e8e22c3-724b-4cdb-9058-591d43a24c7e\">\n",
              "    <div class=\"colab-df-container\">\n",
              "      <div>\n",
              "<style scoped>\n",
              "    .dataframe tbody tr th:only-of-type {\n",
              "        vertical-align: middle;\n",
              "    }\n",
              "\n",
              "    .dataframe tbody tr th {\n",
              "        vertical-align: top;\n",
              "    }\n",
              "\n",
              "    .dataframe thead th {\n",
              "        text-align: right;\n",
              "    }\n",
              "</style>\n",
              "<table border=\"1\" class=\"dataframe\">\n",
              "  <thead>\n",
              "    <tr style=\"text-align: right;\">\n",
              "      <th></th>\n",
              "      <th>ID</th>\n",
              "      <th>Severity</th>\n",
              "      <th>Start_Time</th>\n",
              "      <th>End_Time</th>\n",
              "      <th>Start_Lat</th>\n",
              "      <th>Start_Lng</th>\n",
              "      <th>End_Lat</th>\n",
              "      <th>End_Lng</th>\n",
              "      <th>Distance(mi)</th>\n",
              "      <th>Description</th>\n",
              "      <th>...</th>\n",
              "      <th>Roundabout</th>\n",
              "      <th>Station</th>\n",
              "      <th>Stop</th>\n",
              "      <th>Traffic_Calming</th>\n",
              "      <th>Traffic_Signal</th>\n",
              "      <th>Turning_Loop</th>\n",
              "      <th>Sunrise_Sunset</th>\n",
              "      <th>Civil_Twilight</th>\n",
              "      <th>Nautical_Twilight</th>\n",
              "      <th>Astronomical_Twilight</th>\n",
              "    </tr>\n",
              "  </thead>\n",
              "  <tbody>\n",
              "    <tr>\n",
              "      <th>0</th>\n",
              "      <td>A-1</td>\n",
              "      <td>3</td>\n",
              "      <td>2016-02-08 00:37:08</td>\n",
              "      <td>2016-02-08 06:37:08</td>\n",
              "      <td>40.108910</td>\n",
              "      <td>-83.092860</td>\n",
              "      <td>40.112060</td>\n",
              "      <td>-83.031870</td>\n",
              "      <td>3.230</td>\n",
              "      <td>Between Sawmill Rd/Exit 20 and OH-315/Olentang...</td>\n",
              "      <td>...</td>\n",
              "      <td>False</td>\n",
              "      <td>False</td>\n",
              "      <td>False</td>\n",
              "      <td>False</td>\n",
              "      <td>False</td>\n",
              "      <td>False</td>\n",
              "      <td>Night</td>\n",
              "      <td>Night</td>\n",
              "      <td>Night</td>\n",
              "      <td>Night</td>\n",
              "    </tr>\n",
              "    <tr>\n",
              "      <th>1</th>\n",
              "      <td>A-2</td>\n",
              "      <td>2</td>\n",
              "      <td>2016-02-08 05:56:20</td>\n",
              "      <td>2016-02-08 11:56:20</td>\n",
              "      <td>39.865420</td>\n",
              "      <td>-84.062800</td>\n",
              "      <td>39.865010</td>\n",
              "      <td>-84.048730</td>\n",
              "      <td>0.747</td>\n",
              "      <td>At OH-4/OH-235/Exit 41 - Accident.</td>\n",
              "      <td>...</td>\n",
              "      <td>False</td>\n",
              "      <td>False</td>\n",
              "      <td>False</td>\n",
              "      <td>False</td>\n",
              "      <td>False</td>\n",
              "      <td>False</td>\n",
              "      <td>Night</td>\n",
              "      <td>Night</td>\n",
              "      <td>Night</td>\n",
              "      <td>Night</td>\n",
              "    </tr>\n",
              "    <tr>\n",
              "      <th>2</th>\n",
              "      <td>A-3</td>\n",
              "      <td>2</td>\n",
              "      <td>2016-02-08 06:15:39</td>\n",
              "      <td>2016-02-08 12:15:39</td>\n",
              "      <td>39.102660</td>\n",
              "      <td>-84.524680</td>\n",
              "      <td>39.102090</td>\n",
              "      <td>-84.523960</td>\n",
              "      <td>0.055</td>\n",
              "      <td>At I-71/US-50/Exit 1 - Accident.</td>\n",
              "      <td>...</td>\n",
              "      <td>False</td>\n",
              "      <td>False</td>\n",
              "      <td>False</td>\n",
              "      <td>False</td>\n",
              "      <td>False</td>\n",
              "      <td>False</td>\n",
              "      <td>Night</td>\n",
              "      <td>Night</td>\n",
              "      <td>Night</td>\n",
              "      <td>Day</td>\n",
              "    </tr>\n",
              "    <tr>\n",
              "      <th>3</th>\n",
              "      <td>A-4</td>\n",
              "      <td>2</td>\n",
              "      <td>2016-02-08 06:51:45</td>\n",
              "      <td>2016-02-08 12:51:45</td>\n",
              "      <td>41.062130</td>\n",
              "      <td>-81.537840</td>\n",
              "      <td>41.062170</td>\n",
              "      <td>-81.535470</td>\n",
              "      <td>0.123</td>\n",
              "      <td>At Dart Ave/Exit 21 - Accident.</td>\n",
              "      <td>...</td>\n",
              "      <td>False</td>\n",
              "      <td>False</td>\n",
              "      <td>False</td>\n",
              "      <td>False</td>\n",
              "      <td>False</td>\n",
              "      <td>False</td>\n",
              "      <td>Night</td>\n",
              "      <td>Night</td>\n",
              "      <td>Day</td>\n",
              "      <td>Day</td>\n",
              "    </tr>\n",
              "    <tr>\n",
              "      <th>4</th>\n",
              "      <td>A-5</td>\n",
              "      <td>3</td>\n",
              "      <td>2016-02-08 07:53:43</td>\n",
              "      <td>2016-02-08 13:53:43</td>\n",
              "      <td>39.172393</td>\n",
              "      <td>-84.492792</td>\n",
              "      <td>39.170476</td>\n",
              "      <td>-84.501798</td>\n",
              "      <td>0.500</td>\n",
              "      <td>At Mitchell Ave/Exit 6 - Accident.</td>\n",
              "      <td>...</td>\n",
              "      <td>False</td>\n",
              "      <td>False</td>\n",
              "      <td>False</td>\n",
              "      <td>False</td>\n",
              "      <td>False</td>\n",
              "      <td>False</td>\n",
              "      <td>Day</td>\n",
              "      <td>Day</td>\n",
              "      <td>Day</td>\n",
              "      <td>Day</td>\n",
              "    </tr>\n",
              "    <tr>\n",
              "      <th>...</th>\n",
              "      <td>...</td>\n",
              "      <td>...</td>\n",
              "      <td>...</td>\n",
              "      <td>...</td>\n",
              "      <td>...</td>\n",
              "      <td>...</td>\n",
              "      <td>...</td>\n",
              "      <td>...</td>\n",
              "      <td>...</td>\n",
              "      <td>...</td>\n",
              "      <td>...</td>\n",
              "      <td>...</td>\n",
              "      <td>...</td>\n",
              "      <td>...</td>\n",
              "      <td>...</td>\n",
              "      <td>...</td>\n",
              "      <td>...</td>\n",
              "      <td>...</td>\n",
              "      <td>...</td>\n",
              "      <td>...</td>\n",
              "      <td>...</td>\n",
              "    </tr>\n",
              "    <tr>\n",
              "      <th>2845337</th>\n",
              "      <td>A-2845338</td>\n",
              "      <td>2</td>\n",
              "      <td>2019-08-23 18:03:25</td>\n",
              "      <td>2019-08-23 18:32:01</td>\n",
              "      <td>34.002480</td>\n",
              "      <td>-117.379360</td>\n",
              "      <td>33.998880</td>\n",
              "      <td>-117.370940</td>\n",
              "      <td>0.543</td>\n",
              "      <td>At Market St - Accident.</td>\n",
              "      <td>...</td>\n",
              "      <td>False</td>\n",
              "      <td>False</td>\n",
              "      <td>False</td>\n",
              "      <td>False</td>\n",
              "      <td>False</td>\n",
              "      <td>False</td>\n",
              "      <td>Day</td>\n",
              "      <td>Day</td>\n",
              "      <td>Day</td>\n",
              "      <td>Day</td>\n",
              "    </tr>\n",
              "    <tr>\n",
              "      <th>2845338</th>\n",
              "      <td>A-2845339</td>\n",
              "      <td>2</td>\n",
              "      <td>2019-08-23 19:11:30</td>\n",
              "      <td>2019-08-23 19:38:23</td>\n",
              "      <td>32.766960</td>\n",
              "      <td>-117.148060</td>\n",
              "      <td>32.765550</td>\n",
              "      <td>-117.153630</td>\n",
              "      <td>0.338</td>\n",
              "      <td>At Camino Del Rio/Mission Center Rd - Accident.</td>\n",
              "      <td>...</td>\n",
              "      <td>False</td>\n",
              "      <td>False</td>\n",
              "      <td>False</td>\n",
              "      <td>False</td>\n",
              "      <td>False</td>\n",
              "      <td>False</td>\n",
              "      <td>Day</td>\n",
              "      <td>Day</td>\n",
              "      <td>Day</td>\n",
              "      <td>Day</td>\n",
              "    </tr>\n",
              "    <tr>\n",
              "      <th>2845339</th>\n",
              "      <td>A-2845340</td>\n",
              "      <td>2</td>\n",
              "      <td>2019-08-23 19:00:21</td>\n",
              "      <td>2019-08-23 19:28:49</td>\n",
              "      <td>33.775450</td>\n",
              "      <td>-117.847790</td>\n",
              "      <td>33.777400</td>\n",
              "      <td>-117.857270</td>\n",
              "      <td>0.561</td>\n",
              "      <td>At Glassell St/Grand Ave - Accident. in the ri...</td>\n",
              "      <td>...</td>\n",
              "      <td>False</td>\n",
              "      <td>False</td>\n",
              "      <td>False</td>\n",
              "      <td>False</td>\n",
              "      <td>False</td>\n",
              "      <td>False</td>\n",
              "      <td>Day</td>\n",
              "      <td>Day</td>\n",
              "      <td>Day</td>\n",
              "      <td>Day</td>\n",
              "    </tr>\n",
              "    <tr>\n",
              "      <th>2845340</th>\n",
              "      <td>A-2845341</td>\n",
              "      <td>2</td>\n",
              "      <td>2019-08-23 19:00:21</td>\n",
              "      <td>2019-08-23 19:29:42</td>\n",
              "      <td>33.992460</td>\n",
              "      <td>-118.403020</td>\n",
              "      <td>33.983110</td>\n",
              "      <td>-118.395650</td>\n",
              "      <td>0.772</td>\n",
              "      <td>At CA-90/Marina Fwy/Jefferson Blvd - Accident.</td>\n",
              "      <td>...</td>\n",
              "      <td>False</td>\n",
              "      <td>False</td>\n",
              "      <td>False</td>\n",
              "      <td>False</td>\n",
              "      <td>False</td>\n",
              "      <td>False</td>\n",
              "      <td>Day</td>\n",
              "      <td>Day</td>\n",
              "      <td>Day</td>\n",
              "      <td>Day</td>\n",
              "    </tr>\n",
              "    <tr>\n",
              "      <th>2845341</th>\n",
              "      <td>A-2845342</td>\n",
              "      <td>2</td>\n",
              "      <td>2019-08-23 18:52:06</td>\n",
              "      <td>2019-08-23 19:21:31</td>\n",
              "      <td>34.133930</td>\n",
              "      <td>-117.230920</td>\n",
              "      <td>34.137360</td>\n",
              "      <td>-117.239340</td>\n",
              "      <td>0.537</td>\n",
              "      <td>At Highland Ave/Arden Ave - Accident.</td>\n",
              "      <td>...</td>\n",
              "      <td>False</td>\n",
              "      <td>False</td>\n",
              "      <td>False</td>\n",
              "      <td>False</td>\n",
              "      <td>False</td>\n",
              "      <td>False</td>\n",
              "      <td>Day</td>\n",
              "      <td>Day</td>\n",
              "      <td>Day</td>\n",
              "      <td>Day</td>\n",
              "    </tr>\n",
              "  </tbody>\n",
              "</table>\n",
              "<p>2845342 rows × 47 columns</p>\n",
              "</div>\n",
              "      <button class=\"colab-df-convert\" onclick=\"convertToInteractive('df-7e8e22c3-724b-4cdb-9058-591d43a24c7e')\"\n",
              "              title=\"Convert this dataframe to an interactive table.\"\n",
              "              style=\"display:none;\">\n",
              "        \n",
              "  <svg xmlns=\"http://www.w3.org/2000/svg\" height=\"24px\"viewBox=\"0 0 24 24\"\n",
              "       width=\"24px\">\n",
              "    <path d=\"M0 0h24v24H0V0z\" fill=\"none\"/>\n",
              "    <path d=\"M18.56 5.44l.94 2.06.94-2.06 2.06-.94-2.06-.94-.94-2.06-.94 2.06-2.06.94zm-11 1L8.5 8.5l.94-2.06 2.06-.94-2.06-.94L8.5 2.5l-.94 2.06-2.06.94zm10 10l.94 2.06.94-2.06 2.06-.94-2.06-.94-.94-2.06-.94 2.06-2.06.94z\"/><path d=\"M17.41 7.96l-1.37-1.37c-.4-.4-.92-.59-1.43-.59-.52 0-1.04.2-1.43.59L10.3 9.45l-7.72 7.72c-.78.78-.78 2.05 0 2.83L4 21.41c.39.39.9.59 1.41.59.51 0 1.02-.2 1.41-.59l7.78-7.78 2.81-2.81c.8-.78.8-2.07 0-2.86zM5.41 20L4 18.59l7.72-7.72 1.47 1.35L5.41 20z\"/>\n",
              "  </svg>\n",
              "      </button>\n",
              "      \n",
              "  <style>\n",
              "    .colab-df-container {\n",
              "      display:flex;\n",
              "      flex-wrap:wrap;\n",
              "      gap: 12px;\n",
              "    }\n",
              "\n",
              "    .colab-df-convert {\n",
              "      background-color: #E8F0FE;\n",
              "      border: none;\n",
              "      border-radius: 50%;\n",
              "      cursor: pointer;\n",
              "      display: none;\n",
              "      fill: #1967D2;\n",
              "      height: 32px;\n",
              "      padding: 0 0 0 0;\n",
              "      width: 32px;\n",
              "    }\n",
              "\n",
              "    .colab-df-convert:hover {\n",
              "      background-color: #E2EBFA;\n",
              "      box-shadow: 0px 1px 2px rgba(60, 64, 67, 0.3), 0px 1px 3px 1px rgba(60, 64, 67, 0.15);\n",
              "      fill: #174EA6;\n",
              "    }\n",
              "\n",
              "    [theme=dark] .colab-df-convert {\n",
              "      background-color: #3B4455;\n",
              "      fill: #D2E3FC;\n",
              "    }\n",
              "\n",
              "    [theme=dark] .colab-df-convert:hover {\n",
              "      background-color: #434B5C;\n",
              "      box-shadow: 0px 1px 3px 1px rgba(0, 0, 0, 0.15);\n",
              "      filter: drop-shadow(0px 1px 2px rgba(0, 0, 0, 0.3));\n",
              "      fill: #FFFFFF;\n",
              "    }\n",
              "  </style>\n",
              "\n",
              "      <script>\n",
              "        const buttonEl =\n",
              "          document.querySelector('#df-7e8e22c3-724b-4cdb-9058-591d43a24c7e button.colab-df-convert');\n",
              "        buttonEl.style.display =\n",
              "          google.colab.kernel.accessAllowed ? 'block' : 'none';\n",
              "\n",
              "        async function convertToInteractive(key) {\n",
              "          const element = document.querySelector('#df-7e8e22c3-724b-4cdb-9058-591d43a24c7e');\n",
              "          const dataTable =\n",
              "            await google.colab.kernel.invokeFunction('convertToInteractive',\n",
              "                                                     [key], {});\n",
              "          if (!dataTable) return;\n",
              "\n",
              "          const docLinkHtml = 'Like what you see? Visit the ' +\n",
              "            '<a target=\"_blank\" href=https://colab.research.google.com/notebooks/data_table.ipynb>data table notebook</a>'\n",
              "            + ' to learn more about interactive tables.';\n",
              "          element.innerHTML = '';\n",
              "          dataTable['output_type'] = 'display_data';\n",
              "          await google.colab.output.renderOutput(dataTable, element);\n",
              "          const docLink = document.createElement('div');\n",
              "          docLink.innerHTML = docLinkHtml;\n",
              "          element.appendChild(docLink);\n",
              "        }\n",
              "      </script>\n",
              "    </div>\n",
              "  </div>\n",
              "  "
            ],
            "text/plain": [
              "                ID  Severity           Start_Time             End_Time  \\\n",
              "0              A-1         3  2016-02-08 00:37:08  2016-02-08 06:37:08   \n",
              "1              A-2         2  2016-02-08 05:56:20  2016-02-08 11:56:20   \n",
              "2              A-3         2  2016-02-08 06:15:39  2016-02-08 12:15:39   \n",
              "3              A-4         2  2016-02-08 06:51:45  2016-02-08 12:51:45   \n",
              "4              A-5         3  2016-02-08 07:53:43  2016-02-08 13:53:43   \n",
              "...            ...       ...                  ...                  ...   \n",
              "2845337  A-2845338         2  2019-08-23 18:03:25  2019-08-23 18:32:01   \n",
              "2845338  A-2845339         2  2019-08-23 19:11:30  2019-08-23 19:38:23   \n",
              "2845339  A-2845340         2  2019-08-23 19:00:21  2019-08-23 19:28:49   \n",
              "2845340  A-2845341         2  2019-08-23 19:00:21  2019-08-23 19:29:42   \n",
              "2845341  A-2845342         2  2019-08-23 18:52:06  2019-08-23 19:21:31   \n",
              "\n",
              "         Start_Lat   Start_Lng    End_Lat     End_Lng  Distance(mi)  \\\n",
              "0        40.108910  -83.092860  40.112060  -83.031870         3.230   \n",
              "1        39.865420  -84.062800  39.865010  -84.048730         0.747   \n",
              "2        39.102660  -84.524680  39.102090  -84.523960         0.055   \n",
              "3        41.062130  -81.537840  41.062170  -81.535470         0.123   \n",
              "4        39.172393  -84.492792  39.170476  -84.501798         0.500   \n",
              "...            ...         ...        ...         ...           ...   \n",
              "2845337  34.002480 -117.379360  33.998880 -117.370940         0.543   \n",
              "2845338  32.766960 -117.148060  32.765550 -117.153630         0.338   \n",
              "2845339  33.775450 -117.847790  33.777400 -117.857270         0.561   \n",
              "2845340  33.992460 -118.403020  33.983110 -118.395650         0.772   \n",
              "2845341  34.133930 -117.230920  34.137360 -117.239340         0.537   \n",
              "\n",
              "                                               Description  ...  Roundabout  \\\n",
              "0        Between Sawmill Rd/Exit 20 and OH-315/Olentang...  ...       False   \n",
              "1                       At OH-4/OH-235/Exit 41 - Accident.  ...       False   \n",
              "2                         At I-71/US-50/Exit 1 - Accident.  ...       False   \n",
              "3                          At Dart Ave/Exit 21 - Accident.  ...       False   \n",
              "4                       At Mitchell Ave/Exit 6 - Accident.  ...       False   \n",
              "...                                                    ...  ...         ...   \n",
              "2845337                           At Market St - Accident.  ...       False   \n",
              "2845338    At Camino Del Rio/Mission Center Rd - Accident.  ...       False   \n",
              "2845339  At Glassell St/Grand Ave - Accident. in the ri...  ...       False   \n",
              "2845340     At CA-90/Marina Fwy/Jefferson Blvd - Accident.  ...       False   \n",
              "2845341              At Highland Ave/Arden Ave - Accident.  ...       False   \n",
              "\n",
              "        Station   Stop Traffic_Calming Traffic_Signal Turning_Loop  \\\n",
              "0         False  False           False          False        False   \n",
              "1         False  False           False          False        False   \n",
              "2         False  False           False          False        False   \n",
              "3         False  False           False          False        False   \n",
              "4         False  False           False          False        False   \n",
              "...         ...    ...             ...            ...          ...   \n",
              "2845337   False  False           False          False        False   \n",
              "2845338   False  False           False          False        False   \n",
              "2845339   False  False           False          False        False   \n",
              "2845340   False  False           False          False        False   \n",
              "2845341   False  False           False          False        False   \n",
              "\n",
              "        Sunrise_Sunset Civil_Twilight Nautical_Twilight Astronomical_Twilight  \n",
              "0                Night          Night             Night                 Night  \n",
              "1                Night          Night             Night                 Night  \n",
              "2                Night          Night             Night                   Day  \n",
              "3                Night          Night               Day                   Day  \n",
              "4                  Day            Day               Day                   Day  \n",
              "...                ...            ...               ...                   ...  \n",
              "2845337            Day            Day               Day                   Day  \n",
              "2845338            Day            Day               Day                   Day  \n",
              "2845339            Day            Day               Day                   Day  \n",
              "2845340            Day            Day               Day                   Day  \n",
              "2845341            Day            Day               Day                   Day  \n",
              "\n",
              "[2845342 rows x 47 columns]"
            ]
          },
          "execution_count": 8,
          "metadata": {},
          "output_type": "execute_result"
        }
      ],
      "source": [
        "df"
      ]
    },
    {
      "cell_type": "code",
      "execution_count": 9,
      "metadata": {
        "colab": {
          "base_uri": "https://localhost:8080/"
        },
        "id": "LBJvXRK_V0nk",
        "outputId": "6d48fbf2-5ac8-40bc-c20f-14d3bee35728"
      },
      "outputs": [
        {
          "name": "stdout",
          "output_type": "stream",
          "text": [
            "<class 'pandas.core.frame.DataFrame'>\n",
            "RangeIndex: 2845342 entries, 0 to 2845341\n",
            "Data columns (total 47 columns):\n",
            " #   Column                 Dtype  \n",
            "---  ------                 -----  \n",
            " 0   ID                     object \n",
            " 1   Severity               int64  \n",
            " 2   Start_Time             object \n",
            " 3   End_Time               object \n",
            " 4   Start_Lat              float64\n",
            " 5   Start_Lng              float64\n",
            " 6   End_Lat                float64\n",
            " 7   End_Lng                float64\n",
            " 8   Distance(mi)           float64\n",
            " 9   Description            object \n",
            " 10  Number                 float64\n",
            " 11  Street                 object \n",
            " 12  Side                   object \n",
            " 13  City                   object \n",
            " 14  County                 object \n",
            " 15  State                  object \n",
            " 16  Zipcode                object \n",
            " 17  Country                object \n",
            " 18  Timezone               object \n",
            " 19  Airport_Code           object \n",
            " 20  Weather_Timestamp      object \n",
            " 21  Temperature(F)         float64\n",
            " 22  Wind_Chill(F)          float64\n",
            " 23  Humidity(%)            float64\n",
            " 24  Pressure(in)           float64\n",
            " 25  Visibility(mi)         float64\n",
            " 26  Wind_Direction         object \n",
            " 27  Wind_Speed(mph)        float64\n",
            " 28  Precipitation(in)      float64\n",
            " 29  Weather_Condition      object \n",
            " 30  Amenity                bool   \n",
            " 31  Bump                   bool   \n",
            " 32  Crossing               bool   \n",
            " 33  Give_Way               bool   \n",
            " 34  Junction               bool   \n",
            " 35  No_Exit                bool   \n",
            " 36  Railway                bool   \n",
            " 37  Roundabout             bool   \n",
            " 38  Station                bool   \n",
            " 39  Stop                   bool   \n",
            " 40  Traffic_Calming        bool   \n",
            " 41  Traffic_Signal         bool   \n",
            " 42  Turning_Loop           bool   \n",
            " 43  Sunrise_Sunset         object \n",
            " 44  Civil_Twilight         object \n",
            " 45  Nautical_Twilight      object \n",
            " 46  Astronomical_Twilight  object \n",
            "dtypes: bool(13), float64(13), int64(1), object(20)\n",
            "memory usage: 773.4+ MB\n"
          ]
        }
      ],
      "source": [
        "df.info()"
      ]
    },
    {
      "cell_type": "code",
      "execution_count": 10,
      "metadata": {
        "colab": {
          "base_uri": "https://localhost:8080/",
          "height": 364
        },
        "id": "3tQcPxX1V0jL",
        "outputId": "13080d3c-e8e0-4d61-e63e-e66d0752338d"
      },
      "outputs": [
        {
          "data": {
            "text/html": [
              "\n",
              "  <div id=\"df-b04d3cc4-11c6-441a-ad9c-dfffed2ba67c\">\n",
              "    <div class=\"colab-df-container\">\n",
              "      <div>\n",
              "<style scoped>\n",
              "    .dataframe tbody tr th:only-of-type {\n",
              "        vertical-align: middle;\n",
              "    }\n",
              "\n",
              "    .dataframe tbody tr th {\n",
              "        vertical-align: top;\n",
              "    }\n",
              "\n",
              "    .dataframe thead th {\n",
              "        text-align: right;\n",
              "    }\n",
              "</style>\n",
              "<table border=\"1\" class=\"dataframe\">\n",
              "  <thead>\n",
              "    <tr style=\"text-align: right;\">\n",
              "      <th></th>\n",
              "      <th>Severity</th>\n",
              "      <th>Start_Lat</th>\n",
              "      <th>Start_Lng</th>\n",
              "      <th>End_Lat</th>\n",
              "      <th>End_Lng</th>\n",
              "      <th>Distance(mi)</th>\n",
              "      <th>Number</th>\n",
              "      <th>Temperature(F)</th>\n",
              "      <th>Wind_Chill(F)</th>\n",
              "      <th>Humidity(%)</th>\n",
              "      <th>Pressure(in)</th>\n",
              "      <th>Visibility(mi)</th>\n",
              "      <th>Wind_Speed(mph)</th>\n",
              "      <th>Precipitation(in)</th>\n",
              "    </tr>\n",
              "  </thead>\n",
              "  <tbody>\n",
              "    <tr>\n",
              "      <th>count</th>\n",
              "      <td>2.845342e+06</td>\n",
              "      <td>2.845342e+06</td>\n",
              "      <td>2.845342e+06</td>\n",
              "      <td>2.845342e+06</td>\n",
              "      <td>2.845342e+06</td>\n",
              "      <td>2.845342e+06</td>\n",
              "      <td>1.101431e+06</td>\n",
              "      <td>2.776068e+06</td>\n",
              "      <td>2.375699e+06</td>\n",
              "      <td>2.772250e+06</td>\n",
              "      <td>2.786142e+06</td>\n",
              "      <td>2.774796e+06</td>\n",
              "      <td>2.687398e+06</td>\n",
              "      <td>2.295884e+06</td>\n",
              "    </tr>\n",
              "    <tr>\n",
              "      <th>mean</th>\n",
              "      <td>2.137572e+00</td>\n",
              "      <td>3.624520e+01</td>\n",
              "      <td>-9.711463e+01</td>\n",
              "      <td>3.624532e+01</td>\n",
              "      <td>-9.711439e+01</td>\n",
              "      <td>7.026779e-01</td>\n",
              "      <td>8.089408e+03</td>\n",
              "      <td>6.179356e+01</td>\n",
              "      <td>5.965823e+01</td>\n",
              "      <td>6.436545e+01</td>\n",
              "      <td>2.947234e+01</td>\n",
              "      <td>9.099391e+00</td>\n",
              "      <td>7.395044e+00</td>\n",
              "      <td>7.016940e-03</td>\n",
              "    </tr>\n",
              "    <tr>\n",
              "      <th>std</th>\n",
              "      <td>4.787216e-01</td>\n",
              "      <td>5.363797e+00</td>\n",
              "      <td>1.831782e+01</td>\n",
              "      <td>5.363873e+00</td>\n",
              "      <td>1.831763e+01</td>\n",
              "      <td>1.560361e+00</td>\n",
              "      <td>1.836009e+04</td>\n",
              "      <td>1.862263e+01</td>\n",
              "      <td>2.116097e+01</td>\n",
              "      <td>2.287457e+01</td>\n",
              "      <td>1.045286e+00</td>\n",
              "      <td>2.717546e+00</td>\n",
              "      <td>5.527454e+00</td>\n",
              "      <td>9.348831e-02</td>\n",
              "    </tr>\n",
              "    <tr>\n",
              "      <th>min</th>\n",
              "      <td>1.000000e+00</td>\n",
              "      <td>2.456603e+01</td>\n",
              "      <td>-1.245481e+02</td>\n",
              "      <td>2.456601e+01</td>\n",
              "      <td>-1.245457e+02</td>\n",
              "      <td>0.000000e+00</td>\n",
              "      <td>0.000000e+00</td>\n",
              "      <td>-8.900000e+01</td>\n",
              "      <td>-8.900000e+01</td>\n",
              "      <td>1.000000e+00</td>\n",
              "      <td>0.000000e+00</td>\n",
              "      <td>0.000000e+00</td>\n",
              "      <td>0.000000e+00</td>\n",
              "      <td>0.000000e+00</td>\n",
              "    </tr>\n",
              "    <tr>\n",
              "      <th>25%</th>\n",
              "      <td>2.000000e+00</td>\n",
              "      <td>3.344517e+01</td>\n",
              "      <td>-1.180331e+02</td>\n",
              "      <td>3.344628e+01</td>\n",
              "      <td>-1.180333e+02</td>\n",
              "      <td>5.200000e-02</td>\n",
              "      <td>1.270000e+03</td>\n",
              "      <td>5.000000e+01</td>\n",
              "      <td>4.600000e+01</td>\n",
              "      <td>4.800000e+01</td>\n",
              "      <td>2.931000e+01</td>\n",
              "      <td>1.000000e+01</td>\n",
              "      <td>3.500000e+00</td>\n",
              "      <td>0.000000e+00</td>\n",
              "    </tr>\n",
              "    <tr>\n",
              "      <th>50%</th>\n",
              "      <td>2.000000e+00</td>\n",
              "      <td>3.609861e+01</td>\n",
              "      <td>-9.241808e+01</td>\n",
              "      <td>3.609799e+01</td>\n",
              "      <td>-9.241772e+01</td>\n",
              "      <td>2.440000e-01</td>\n",
              "      <td>4.007000e+03</td>\n",
              "      <td>6.400000e+01</td>\n",
              "      <td>6.300000e+01</td>\n",
              "      <td>6.700000e+01</td>\n",
              "      <td>2.982000e+01</td>\n",
              "      <td>1.000000e+01</td>\n",
              "      <td>7.000000e+00</td>\n",
              "      <td>0.000000e+00</td>\n",
              "    </tr>\n",
              "    <tr>\n",
              "      <th>75%</th>\n",
              "      <td>2.000000e+00</td>\n",
              "      <td>4.016024e+01</td>\n",
              "      <td>-8.037243e+01</td>\n",
              "      <td>4.016105e+01</td>\n",
              "      <td>-8.037338e+01</td>\n",
              "      <td>7.640000e-01</td>\n",
              "      <td>9.567000e+03</td>\n",
              "      <td>7.600000e+01</td>\n",
              "      <td>7.600000e+01</td>\n",
              "      <td>8.300000e+01</td>\n",
              "      <td>3.001000e+01</td>\n",
              "      <td>1.000000e+01</td>\n",
              "      <td>1.000000e+01</td>\n",
              "      <td>0.000000e+00</td>\n",
              "    </tr>\n",
              "    <tr>\n",
              "      <th>max</th>\n",
              "      <td>4.000000e+00</td>\n",
              "      <td>4.900058e+01</td>\n",
              "      <td>-6.711317e+01</td>\n",
              "      <td>4.907500e+01</td>\n",
              "      <td>-6.710924e+01</td>\n",
              "      <td>1.551860e+02</td>\n",
              "      <td>9.999997e+06</td>\n",
              "      <td>1.960000e+02</td>\n",
              "      <td>1.960000e+02</td>\n",
              "      <td>1.000000e+02</td>\n",
              "      <td>5.890000e+01</td>\n",
              "      <td>1.400000e+02</td>\n",
              "      <td>1.087000e+03</td>\n",
              "      <td>2.400000e+01</td>\n",
              "    </tr>\n",
              "  </tbody>\n",
              "</table>\n",
              "</div>\n",
              "      <button class=\"colab-df-convert\" onclick=\"convertToInteractive('df-b04d3cc4-11c6-441a-ad9c-dfffed2ba67c')\"\n",
              "              title=\"Convert this dataframe to an interactive table.\"\n",
              "              style=\"display:none;\">\n",
              "        \n",
              "  <svg xmlns=\"http://www.w3.org/2000/svg\" height=\"24px\"viewBox=\"0 0 24 24\"\n",
              "       width=\"24px\">\n",
              "    <path d=\"M0 0h24v24H0V0z\" fill=\"none\"/>\n",
              "    <path d=\"M18.56 5.44l.94 2.06.94-2.06 2.06-.94-2.06-.94-.94-2.06-.94 2.06-2.06.94zm-11 1L8.5 8.5l.94-2.06 2.06-.94-2.06-.94L8.5 2.5l-.94 2.06-2.06.94zm10 10l.94 2.06.94-2.06 2.06-.94-2.06-.94-.94-2.06-.94 2.06-2.06.94z\"/><path d=\"M17.41 7.96l-1.37-1.37c-.4-.4-.92-.59-1.43-.59-.52 0-1.04.2-1.43.59L10.3 9.45l-7.72 7.72c-.78.78-.78 2.05 0 2.83L4 21.41c.39.39.9.59 1.41.59.51 0 1.02-.2 1.41-.59l7.78-7.78 2.81-2.81c.8-.78.8-2.07 0-2.86zM5.41 20L4 18.59l7.72-7.72 1.47 1.35L5.41 20z\"/>\n",
              "  </svg>\n",
              "      </button>\n",
              "      \n",
              "  <style>\n",
              "    .colab-df-container {\n",
              "      display:flex;\n",
              "      flex-wrap:wrap;\n",
              "      gap: 12px;\n",
              "    }\n",
              "\n",
              "    .colab-df-convert {\n",
              "      background-color: #E8F0FE;\n",
              "      border: none;\n",
              "      border-radius: 50%;\n",
              "      cursor: pointer;\n",
              "      display: none;\n",
              "      fill: #1967D2;\n",
              "      height: 32px;\n",
              "      padding: 0 0 0 0;\n",
              "      width: 32px;\n",
              "    }\n",
              "\n",
              "    .colab-df-convert:hover {\n",
              "      background-color: #E2EBFA;\n",
              "      box-shadow: 0px 1px 2px rgba(60, 64, 67, 0.3), 0px 1px 3px 1px rgba(60, 64, 67, 0.15);\n",
              "      fill: #174EA6;\n",
              "    }\n",
              "\n",
              "    [theme=dark] .colab-df-convert {\n",
              "      background-color: #3B4455;\n",
              "      fill: #D2E3FC;\n",
              "    }\n",
              "\n",
              "    [theme=dark] .colab-df-convert:hover {\n",
              "      background-color: #434B5C;\n",
              "      box-shadow: 0px 1px 3px 1px rgba(0, 0, 0, 0.15);\n",
              "      filter: drop-shadow(0px 1px 2px rgba(0, 0, 0, 0.3));\n",
              "      fill: #FFFFFF;\n",
              "    }\n",
              "  </style>\n",
              "\n",
              "      <script>\n",
              "        const buttonEl =\n",
              "          document.querySelector('#df-b04d3cc4-11c6-441a-ad9c-dfffed2ba67c button.colab-df-convert');\n",
              "        buttonEl.style.display =\n",
              "          google.colab.kernel.accessAllowed ? 'block' : 'none';\n",
              "\n",
              "        async function convertToInteractive(key) {\n",
              "          const element = document.querySelector('#df-b04d3cc4-11c6-441a-ad9c-dfffed2ba67c');\n",
              "          const dataTable =\n",
              "            await google.colab.kernel.invokeFunction('convertToInteractive',\n",
              "                                                     [key], {});\n",
              "          if (!dataTable) return;\n",
              "\n",
              "          const docLinkHtml = 'Like what you see? Visit the ' +\n",
              "            '<a target=\"_blank\" href=https://colab.research.google.com/notebooks/data_table.ipynb>data table notebook</a>'\n",
              "            + ' to learn more about interactive tables.';\n",
              "          element.innerHTML = '';\n",
              "          dataTable['output_type'] = 'display_data';\n",
              "          await google.colab.output.renderOutput(dataTable, element);\n",
              "          const docLink = document.createElement('div');\n",
              "          docLink.innerHTML = docLinkHtml;\n",
              "          element.appendChild(docLink);\n",
              "        }\n",
              "      </script>\n",
              "    </div>\n",
              "  </div>\n",
              "  "
            ],
            "text/plain": [
              "           Severity     Start_Lat     Start_Lng       End_Lat       End_Lng  \\\n",
              "count  2.845342e+06  2.845342e+06  2.845342e+06  2.845342e+06  2.845342e+06   \n",
              "mean   2.137572e+00  3.624520e+01 -9.711463e+01  3.624532e+01 -9.711439e+01   \n",
              "std    4.787216e-01  5.363797e+00  1.831782e+01  5.363873e+00  1.831763e+01   \n",
              "min    1.000000e+00  2.456603e+01 -1.245481e+02  2.456601e+01 -1.245457e+02   \n",
              "25%    2.000000e+00  3.344517e+01 -1.180331e+02  3.344628e+01 -1.180333e+02   \n",
              "50%    2.000000e+00  3.609861e+01 -9.241808e+01  3.609799e+01 -9.241772e+01   \n",
              "75%    2.000000e+00  4.016024e+01 -8.037243e+01  4.016105e+01 -8.037338e+01   \n",
              "max    4.000000e+00  4.900058e+01 -6.711317e+01  4.907500e+01 -6.710924e+01   \n",
              "\n",
              "       Distance(mi)        Number  Temperature(F)  Wind_Chill(F)  \\\n",
              "count  2.845342e+06  1.101431e+06    2.776068e+06   2.375699e+06   \n",
              "mean   7.026779e-01  8.089408e+03    6.179356e+01   5.965823e+01   \n",
              "std    1.560361e+00  1.836009e+04    1.862263e+01   2.116097e+01   \n",
              "min    0.000000e+00  0.000000e+00   -8.900000e+01  -8.900000e+01   \n",
              "25%    5.200000e-02  1.270000e+03    5.000000e+01   4.600000e+01   \n",
              "50%    2.440000e-01  4.007000e+03    6.400000e+01   6.300000e+01   \n",
              "75%    7.640000e-01  9.567000e+03    7.600000e+01   7.600000e+01   \n",
              "max    1.551860e+02  9.999997e+06    1.960000e+02   1.960000e+02   \n",
              "\n",
              "        Humidity(%)  Pressure(in)  Visibility(mi)  Wind_Speed(mph)  \\\n",
              "count  2.772250e+06  2.786142e+06    2.774796e+06     2.687398e+06   \n",
              "mean   6.436545e+01  2.947234e+01    9.099391e+00     7.395044e+00   \n",
              "std    2.287457e+01  1.045286e+00    2.717546e+00     5.527454e+00   \n",
              "min    1.000000e+00  0.000000e+00    0.000000e+00     0.000000e+00   \n",
              "25%    4.800000e+01  2.931000e+01    1.000000e+01     3.500000e+00   \n",
              "50%    6.700000e+01  2.982000e+01    1.000000e+01     7.000000e+00   \n",
              "75%    8.300000e+01  3.001000e+01    1.000000e+01     1.000000e+01   \n",
              "max    1.000000e+02  5.890000e+01    1.400000e+02     1.087000e+03   \n",
              "\n",
              "       Precipitation(in)  \n",
              "count       2.295884e+06  \n",
              "mean        7.016940e-03  \n",
              "std         9.348831e-02  \n",
              "min         0.000000e+00  \n",
              "25%         0.000000e+00  \n",
              "50%         0.000000e+00  \n",
              "75%         0.000000e+00  \n",
              "max         2.400000e+01  "
            ]
          },
          "execution_count": 10,
          "metadata": {},
          "output_type": "execute_result"
        }
      ],
      "source": [
        "df.describe()"
      ]
    },
    {
      "cell_type": "code",
      "execution_count": 11,
      "metadata": {
        "colab": {
          "base_uri": "https://localhost:8080/"
        },
        "id": "a9qz5H-BV0by",
        "outputId": "a877973d-03b3-45e7-dd59-b20644c6c934"
      },
      "outputs": [
        {
          "data": {
            "text/plain": [
              "14"
            ]
          },
          "execution_count": 11,
          "metadata": {},
          "output_type": "execute_result"
        }
      ],
      "source": [
        "numerics = ['int16', 'int32', 'int64', 'float16', 'float32', 'float64']\n",
        "\n",
        "numerics_df = df.select_dtypes(include=numerics)\n",
        "\n",
        "len(numerics_df.columns)"
      ]
    },
    {
      "cell_type": "markdown",
      "metadata": {
        "id": "fn9zQHzROiIW"
      },
      "source": [
        "Percentage of missing value per column"
      ]
    },
    {
      "cell_type": "code",
      "execution_count": 12,
      "metadata": {
        "colab": {
          "base_uri": "https://localhost:8080/"
        },
        "id": "ktG9-hQxV0Ve",
        "outputId": "adcd4e1b-96cf-40a2-d03b-2e963d7aa0a9"
      },
      "outputs": [
        {
          "data": {
            "text/plain": [
              "Number                   6.129003e-01\n",
              "Precipitation(in)        1.931079e-01\n",
              "Wind_Chill(F)            1.650568e-01\n",
              "Wind_Speed(mph)          5.550967e-02\n",
              "Wind_Direction           2.592834e-02\n",
              "Humidity(%)              2.568830e-02\n",
              "Weather_Condition        2.482514e-02\n",
              "Visibility(mi)           2.479350e-02\n",
              "Temperature(F)           2.434646e-02\n",
              "Pressure(in)             2.080593e-02\n",
              "Weather_Timestamp        1.783125e-02\n",
              "Airport_Code             3.356011e-03\n",
              "Timezone                 1.285961e-03\n",
              "Nautical_Twilight        1.007612e-03\n",
              "Civil_Twilight           1.007612e-03\n",
              "Sunrise_Sunset           1.007612e-03\n",
              "Astronomical_Twilight    1.007612e-03\n",
              "Zipcode                  4.635647e-04\n",
              "City                     4.814887e-05\n",
              "Street                   7.029032e-07\n",
              "Country                  0.000000e+00\n",
              "Junction                 0.000000e+00\n",
              "Start_Time               0.000000e+00\n",
              "End_Time                 0.000000e+00\n",
              "Start_Lat                0.000000e+00\n",
              "Turning_Loop             0.000000e+00\n",
              "Traffic_Signal           0.000000e+00\n",
              "Traffic_Calming          0.000000e+00\n",
              "Stop                     0.000000e+00\n",
              "Station                  0.000000e+00\n",
              "Roundabout               0.000000e+00\n",
              "Railway                  0.000000e+00\n",
              "No_Exit                  0.000000e+00\n",
              "Crossing                 0.000000e+00\n",
              "Give_Way                 0.000000e+00\n",
              "Bump                     0.000000e+00\n",
              "Amenity                  0.000000e+00\n",
              "Start_Lng                0.000000e+00\n",
              "End_Lat                  0.000000e+00\n",
              "End_Lng                  0.000000e+00\n",
              "Distance(mi)             0.000000e+00\n",
              "Description              0.000000e+00\n",
              "Severity                 0.000000e+00\n",
              "Side                     0.000000e+00\n",
              "County                   0.000000e+00\n",
              "State                    0.000000e+00\n",
              "ID                       0.000000e+00\n",
              "dtype: float64"
            ]
          },
          "execution_count": 12,
          "metadata": {},
          "output_type": "execute_result"
        }
      ],
      "source": [
        "missing_perc = df.isnull().sum().sort_values(ascending=False)/len(df)\n",
        "missing_perc"
      ]
    },
    {
      "cell_type": "code",
      "execution_count": 13,
      "metadata": {
        "colab": {
          "base_uri": "https://localhost:8080/"
        },
        "id": "cu6hwSjOV0S1",
        "outputId": "b8e3fcf8-f37c-44ed-bea0-42467bc12547"
      },
      "outputs": [
        {
          "data": {
            "text/plain": [
              "pandas.core.series.Series"
            ]
          },
          "execution_count": 13,
          "metadata": {},
          "output_type": "execute_result"
        }
      ],
      "source": [
        "type(missing_perc)"
      ]
    },
    {
      "cell_type": "code",
      "execution_count": 14,
      "metadata": {
        "colab": {
          "base_uri": "https://localhost:8080/"
        },
        "id": "wbOBB2MHV0Pz",
        "outputId": "c55b264c-73bf-448d-a82b-2c4055579019"
      },
      "outputs": [
        {
          "data": {
            "text/plain": [
              "Number                   6.129003e-01\n",
              "Precipitation(in)        1.931079e-01\n",
              "Wind_Chill(F)            1.650568e-01\n",
              "Wind_Speed(mph)          5.550967e-02\n",
              "Wind_Direction           2.592834e-02\n",
              "Humidity(%)              2.568830e-02\n",
              "Weather_Condition        2.482514e-02\n",
              "Visibility(mi)           2.479350e-02\n",
              "Temperature(F)           2.434646e-02\n",
              "Pressure(in)             2.080593e-02\n",
              "Weather_Timestamp        1.783125e-02\n",
              "Airport_Code             3.356011e-03\n",
              "Timezone                 1.285961e-03\n",
              "Nautical_Twilight        1.007612e-03\n",
              "Civil_Twilight           1.007612e-03\n",
              "Sunrise_Sunset           1.007612e-03\n",
              "Astronomical_Twilight    1.007612e-03\n",
              "Zipcode                  4.635647e-04\n",
              "City                     4.814887e-05\n",
              "Street                   7.029032e-07\n",
              "dtype: float64"
            ]
          },
          "execution_count": 14,
          "metadata": {},
          "output_type": "execute_result"
        }
      ],
      "source": [
        "missing_perc[missing_perc != 0]"
      ]
    },
    {
      "cell_type": "code",
      "execution_count": 15,
      "metadata": {
        "colab": {
          "base_uri": "https://localhost:8080/",
          "height": 283
        },
        "id": "QoTJpRVcRd4V",
        "outputId": "941d693b-57ab-4e99-e353-b89d5563389c"
      },
      "outputs": [
        {
          "data": {
            "text/plain": [
              "<matplotlib.axes._subplots.AxesSubplot at 0x7f99fc297c90>"
            ]
          },
          "execution_count": 15,
          "metadata": {},
          "output_type": "execute_result"
        },
        {
          "data": {
            "image/png": "[encoded data removed]",
            "text/plain": [
              "<Figure size 432x288 with 1 Axes>"
            ]
          },
          "metadata": {
            "needs_background": "light"
          },
          "output_type": "display_data"
        }
      ],
      "source": [
        "missing_perc[missing_perc != 0].plot(kind=\"barh\")"
      ]
    },
    {
      "cell_type": "markdown",
      "metadata": {
        "id": "4dVGoWGjSCSG"
      },
      "source": [
        "Remove columns that you don't want to use"
      ]
    },
    {
      "cell_type": "code",
      "execution_count": 15,
      "metadata": {
        "id": "haSRD4fmRdyp"
      },
      "outputs": [],
      "source": []
    },
    {
      "cell_type": "code",
      "execution_count": 15,
      "metadata": {
        "id": "K2O8dqHmRdum"
      },
      "outputs": [],
      "source": []
    },
    {
      "cell_type": "code",
      "execution_count": 15,
      "metadata": {
        "id": "kQ3WnxNORc6z"
      },
      "outputs": [],
      "source": []
    },
    {
      "cell_type": "markdown",
      "metadata": {
        "id": "Hrb8Z001OxXP"
      },
      "source": [
        "##Perform Exploratory Data analysis Visualization\n",
        "Columns we want to analyse\n",
        "\n",
        "- City\n",
        "- Start_Lat\n",
        "- Start_Lng\n",
        "- End_Lat\n",
        "- Temperature\n",
        "- Weather condition"
      ]
    },
    {
      "cell_type": "code",
      "execution_count": 16,
      "metadata": {
        "colab": {
          "base_uri": "https://localhost:8080/"
        },
        "id": "L1uOj-PqOwio",
        "outputId": "03c9c58e-f785-466f-b936-b274658008e1"
      },
      "outputs": [
        {
          "data": {
            "text/plain": [
              "Index(['ID', 'Severity', 'Start_Time', 'End_Time', 'Start_Lat', 'Start_Lng',\n",
              "       'End_Lat', 'End_Lng', 'Distance(mi)', 'Description', 'Number', 'Street',\n",
              "       'Side', 'City', 'County', 'State', 'Zipcode', 'Country', 'Timezone',\n",
              "       'Airport_Code', 'Weather_Timestamp', 'Temperature(F)', 'Wind_Chill(F)',\n",
              "       'Humidity(%)', 'Pressure(in)', 'Visibility(mi)', 'Wind_Direction',\n",
              "       'Wind_Speed(mph)', 'Precipitation(in)', 'Weather_Condition', 'Amenity',\n",
              "       'Bump', 'Crossing', 'Give_Way', 'Junction', 'No_Exit', 'Railway',\n",
              "       'Roundabout', 'Station', 'Stop', 'Traffic_Calming', 'Traffic_Signal',\n",
              "       'Turning_Loop', 'Sunrise_Sunset', 'Civil_Twilight', 'Nautical_Twilight',\n",
              "       'Astronomical_Twilight'],\n",
              "      dtype='object')"
            ]
          },
          "execution_count": 16,
          "metadata": {},
          "output_type": "execute_result"
        }
      ],
      "source": [
        "df.columns"
      ]
    },
    {
      "cell_type": "code",
      "execution_count": 17,
      "metadata": {
        "colab": {
          "base_uri": "https://localhost:8080/"
        },
        "id": "RRAcwCp-OwfR",
        "outputId": "8256dcc9-4328-4ea2-d7db-8f2d80b749dc"
      },
      "outputs": [
        {
          "data": {
            "text/plain": [
              "0               Dublin\n",
              "1               Dayton\n",
              "2           Cincinnati\n",
              "3                Akron\n",
              "4           Cincinnati\n",
              "              ...     \n",
              "2845337      Riverside\n",
              "2845338      San Diego\n",
              "2845339         Orange\n",
              "2845340    Culver City\n",
              "2845341       Highland\n",
              "Name: City, Length: 2845342, dtype: object"
            ]
          },
          "execution_count": 17,
          "metadata": {},
          "output_type": "execute_result"
        }
      ],
      "source": [
        "df.City"
      ]
    },
    {
      "cell_type": "code",
      "execution_count": 18,
      "metadata": {
        "colab": {
          "base_uri": "https://localhost:8080/"
        },
        "id": "w6g7LUl3O9g1",
        "outputId": "31e54442-9486-419a-d3aa-1703f76f09ef"
      },
      "outputs": [
        {
          "data": {
            "text/plain": [
              "11682"
            ]
          },
          "execution_count": 18,
          "metadata": {},
          "output_type": "execute_result"
        }
      ],
      "source": [
        "cities = df.City.unique()\n",
        "len(cities)"
      ]
    },
    {
      "cell_type": "code",
      "execution_count": 19,
      "metadata": {
        "colab": {
          "base_uri": "https://localhost:8080/"
        },
        "id": "qpXb53PcO9dz",
        "outputId": "8ccfda4f-88e1-4ef6-81a5-212bbac65c68"
      },
      "outputs": [
        {
          "data": {
            "text/plain": [
              "Miami                           106966\n",
              "Los Angeles                      68956\n",
              "Orlando                          54691\n",
              "Dallas                           41979\n",
              "Houston                          39448\n",
              "                                 ...  \n",
              "Ridgedale                            1\n",
              "Sekiu                                1\n",
              "Wooldridge                           1\n",
              "Bullock                              1\n",
              "American Fork-Pleasant Grove         1\n",
              "Name: City, Length: 11681, dtype: int64"
            ]
          },
          "execution_count": 19,
          "metadata": {},
          "output_type": "execute_result"
        }
      ],
      "source": [
        "cities_by_accident = df.City.value_counts()\n",
        "cities_by_accident"
      ]
    },
    {
      "cell_type": "code",
      "execution_count": 20,
      "metadata": {
        "colab": {
          "base_uri": "https://localhost:8080/",
          "height": 283
        },
        "id": "xG0HHBaNUnXz",
        "outputId": "40b38048-baab-4f84-cba3-124930082e16"
      },
      "outputs": [
        {
          "data": {
            "text/plain": [
              "<matplotlib.axes._subplots.AxesSubplot at 0x7f9a259e14d0>"
            ]
          },
          "execution_count": 20,
          "metadata": {},
          "output_type": "execute_result"
        },
        {
          "data": {
            "image/png": "[encoded data removed]",
            "text/plain": [
              "<Figure size 432x288 with 1 Axes>"
            ]
          },
          "metadata": {
            "needs_background": "light"
          },
          "output_type": "display_data"
        }
      ],
      "source": [
        "cities_by_accident[:20].plot(kind=\"barh\")"
      ]
    },
    {
      "cell_type": "code",
      "execution_count": 21,
      "metadata": {
        "id": "Q2ldS2roUnVE"
      },
      "outputs": [],
      "source": [
        "import seaborn as sns\n",
        "sns.set_style(\"darkgrid\")"
      ]
    },
    {
      "cell_type": "code",
      "execution_count": 22,
      "metadata": {
        "colab": {
          "base_uri": "https://localhost:8080/",
          "height": 353
        },
        "id": "om134rm-UnRP",
        "outputId": "fd38365d-4fd6-4f8f-f8cb-003631bd882f"
      },
      "outputs": [
        {
          "name": "stderr",
          "output_type": "stream",
          "text": [
            "/usr/local/lib/python3.7/dist-packages/seaborn/distributions.py:2619: FutureWarning: `distplot` is a deprecated function and will be removed in a future version. Please adapt your code to use either `displot` (a figure-level function with similar flexibility) or `histplot` (an axes-level function for histograms).\n",
            "  warnings.warn(msg, FutureWarning)\n"
          ]
        },
        {
          "data": {
            "text/plain": [
              "<matplotlib.axes._subplots.AxesSubplot at 0x7f99e9bcb390>"
            ]
          },
          "execution_count": 22,
          "metadata": {},
          "output_type": "execute_result"
        },
        {
          "data": {
            "image/png": "[encoded data removed]",
            "text/plain": [
              "<Figure size 432x288 with 1 Axes>"
            ]
          },
          "metadata": {},
          "output_type": "display_data"
        }
      ],
      "source": [
        "sns.distplot(cities_by_accident)"
      ]
    },
    {
      "cell_type": "code",
      "execution_count": 23,
      "metadata": {
        "id": "Sa6KxArQUnOZ"
      },
      "outputs": [],
      "source": [
        "high_accident_cities = cities_by_accident[cities_by_accident >= 1000]\n",
        "low_accident_cities = cities_by_accident[cities_by_accident < 1000]"
      ]
    },
    {
      "cell_type": "code",
      "execution_count": 24,
      "metadata": {
        "colab": {
          "base_uri": "https://localhost:8080/"
        },
        "id": "jCEt2AbiaVHX",
        "outputId": "e0a5834e-f493-4ceb-9789-133bb6dfbc7c"
      },
      "outputs": [
        {
          "data": {
            "text/plain": [
              "0.04245848313644924"
            ]
          },
          "execution_count": 24,
          "metadata": {},
          "output_type": "execute_result"
        }
      ],
      "source": [
        "len(high_accident_cities)/len(cities)"
      ]
    },
    {
      "cell_type": "code",
      "execution_count": 25,
      "metadata": {
        "id": "FOjKZTVmaVEX"
      },
      "outputs": [],
      "source": [
        "#less than 4% of the cities have more than a 1000 accidents"
      ]
    },
    {
      "cell_type": "code",
      "execution_count": 26,
      "metadata": {
        "colab": {
          "base_uri": "https://localhost:8080/"
        },
        "id": "qbzD0RvlaVA_",
        "outputId": "8e3cee99-b496-4501-b748-690704273bf5"
      },
      "outputs": [
        {
          "data": {
            "text/plain": [
              "0.9574559150830337"
            ]
          },
          "execution_count": 26,
          "metadata": {},
          "output_type": "execute_result"
        }
      ],
      "source": [
        "len(low_accident_cities)/len(cities)"
      ]
    },
    {
      "cell_type": "code",
      "execution_count": 27,
      "metadata": {
        "id": "WWKbL3xGaU93"
      },
      "outputs": [],
      "source": [
        "#less than 9% of the cities have more than a 1000 accidents"
      ]
    },
    {
      "cell_type": "code",
      "execution_count": 28,
      "metadata": {
        "colab": {
          "base_uri": "https://localhost:8080/"
        },
        "id": "vD2iM11eUquk",
        "outputId": "487132c8-0096-447d-9ed3-94cfeccfab49"
      },
      "outputs": [
        {
          "data": {
            "text/plain": [
              "0          2016-02-08 00:37:08\n",
              "1          2016-02-08 05:56:20\n",
              "2          2016-02-08 06:15:39\n",
              "3          2016-02-08 06:51:45\n",
              "4          2016-02-08 07:53:43\n",
              "                  ...         \n",
              "2845337    2019-08-23 18:03:25\n",
              "2845338    2019-08-23 19:11:30\n",
              "2845339    2019-08-23 19:00:21\n",
              "2845340    2019-08-23 19:00:21\n",
              "2845341    2019-08-23 18:52:06\n",
              "Name: Start_Time, Length: 2845342, dtype: object"
            ]
          },
          "execution_count": 28,
          "metadata": {},
          "output_type": "execute_result"
        }
      ],
      "source": [
        "df.Start_Time"
      ]
    },
    {
      "cell_type": "code",
      "execution_count": 35,
      "metadata": {
        "id": "jqZ2szYqUqsO"
      },
      "outputs": [],
      "source": [
        "totimes = pd.to_datetime(df.Start_Time)"
      ]
    },
    {
      "cell_type": "code",
      "execution_count": 43,
      "metadata": {
        "colab": {
          "base_uri": "https://localhost:8080/",
          "height": 354
        },
        "id": "bVJEGH9AUqpo",
        "outputId": "7ccfd2ca-d5f0-46d1-ebf6-78f10b97ce6f"
      },
      "outputs": [
        {
          "name": "stderr",
          "output_type": "stream",
          "text": [
            "/usr/local/lib/python3.7/dist-packages/seaborn/distributions.py:2619: FutureWarning: `distplot` is a deprecated function and will be removed in a future version. Please adapt your code to use either `displot` (a figure-level function with similar flexibility) or `histplot` (an axes-level function for histograms).\n",
            "  warnings.warn(msg, FutureWarning)\n"
          ]
        },
        {
          "data": {
            "text/plain": [
              "<matplotlib.axes._subplots.AxesSubplot at 0x7f99e3a9b9d0>"
            ]
          },
          "execution_count": 43,
          "metadata": {},
          "output_type": "execute_result"
        },
        {
          "data": {
            "image/png": "[encoded data removed]",
            "text/plain": [
              "<Figure size 432x288 with 1 Axes>"
            ]
          },
          "metadata": {},
          "output_type": "display_data"
        }
      ],
      "source": [
        "sns.distplot(totimes.dt.hour, bins=24, kde=False, norm_hist=True)"
      ]
    },
    {
      "cell_type": "markdown",
      "metadata": {
        "id": "KOfolX2dZi8z"
      },
      "source": [
        "- A high percentage of accidents occur between 6 am to 10 am (probably people in a hurry to get to work)\n",
        "- Next highest percentage is 3 pm to 6 pm."
      ]
    },
    {
      "cell_type": "code",
      "execution_count": 45,
      "metadata": {
        "colab": {
          "base_uri": "https://localhost:8080/",
          "height": 298
        },
        "id": "V1XGFFctUqm2",
        "outputId": "5bb090fa-1d15-4872-b590-245a4f233f4a"
      },
      "outputs": [
        {
          "data": {
            "text/plain": [
              "<matplotlib.axes._subplots.AxesSubplot at 0x7f99e39d5950>"
            ]
          },
          "execution_count": 45,
          "metadata": {},
          "output_type": "execute_result"
        },
        {
          "data": {
            "image/png": "[encoded data removed]",
            "text/plain": [
              "<Figure size 432x288 with 1 Axes>"
            ]
          },
          "metadata": {},
          "output_type": "display_data"
        }
      ],
      "source": [
        "sns.distplot(totimes.dt.dayofweek, bins=7, kde=False, norm_hist=True)"
      ]
    },
    {
      "cell_type": "markdown",
      "metadata": {
        "id": "8NU4stngoxmz"
      },
      "source": [
        "Is the distribution of accidents by hour the same on weekends as on weekdays."
      ]
    },
    {
      "cell_type": "code",
      "execution_count": 50,
      "metadata": {
        "colab": {
          "base_uri": "https://localhost:8080/",
          "height": 298
        },
        "id": "7Ontjzl1Uqdq",
        "outputId": "e58666b6-8728-4046-cb51-e4c490a02a56"
      },
      "outputs": [
        {
          "data": {
            "text/plain": [
              "<matplotlib.axes._subplots.AxesSubplot at 0x7f99e3889610>"
            ]
          },
          "execution_count": 50,
          "metadata": {},
          "output_type": "execute_result"
        },
        {
          "data": {
            "image/png": "[encoded data removed]",
            "text/plain": [
              "<Figure size 432x288 with 1 Axes>"
            ]
          },
          "metadata": {},
          "output_type": "display_data"
        }
      ],
      "source": [
        "sundays_start_time = totimes[totimes.dt.dayofweek == 6]\n",
        "sns.distplot(sundays_start_time.dt.hour, bins=24, kde=False, norm_hist=True)"
      ]
    },
    {
      "cell_type": "code",
      "execution_count": 51,
      "metadata": {
        "colab": {
          "base_uri": "https://localhost:8080/"
        },
        "id": "49UAphREprYe",
        "outputId": "6af2490f-6743-4bf2-a783-9f29164f433f"
      },
      "outputs": [
        {
          "data": {
            "text/plain": [
              "0          40.108910\n",
              "1          39.865420\n",
              "2          39.102660\n",
              "3          41.062130\n",
              "4          39.172393\n",
              "             ...    \n",
              "2845337    34.002480\n",
              "2845338    32.766960\n",
              "2845339    33.775450\n",
              "2845340    33.992460\n",
              "2845341    34.133930\n",
              "Name: Start_Lat, Length: 2845342, dtype: float64"
            ]
          },
          "execution_count": 51,
          "metadata": {},
          "output_type": "execute_result"
        }
      ],
      "source": [
        "df.Start_Lat"
      ]
    },
    {
      "cell_type": "code",
      "execution_count": 52,
      "metadata": {
        "colab": {
          "base_uri": "https://localhost:8080/"
        },
        "id": "BQ_Yxg6bpvnT",
        "outputId": "f7347d23-1518-4325-8f48-7850f00c561b"
      },
      "outputs": [
        {
          "data": {
            "text/plain": [
              "0          -83.092860\n",
              "1          -84.062800\n",
              "2          -84.524680\n",
              "3          -81.537840\n",
              "4          -84.492792\n",
              "              ...    \n",
              "2845337   -117.379360\n",
              "2845338   -117.148060\n",
              "2845339   -117.847790\n",
              "2845340   -118.403020\n",
              "2845341   -117.230920\n",
              "Name: Start_Lng, Length: 2845342, dtype: float64"
            ]
          },
          "execution_count": 52,
          "metadata": {},
          "output_type": "execute_result"
        }
      ],
      "source": [
        "df.Start_Lng"
      ]
    },
    {
      "cell_type": "code",
      "execution_count": 58,
      "metadata": {
        "id": "ADZHYzkFqbS3"
      },
      "outputs": [],
      "source": [
        "sample_df = df.sample(int(0.1 * len(df)))"
      ]
    },
    {
      "cell_type": "code",
      "execution_count": 59,
      "metadata": {
        "colab": {
          "base_uri": "https://localhost:8080/",
          "height": 300
        },
        "id": "H8LHVDGAq8kH",
        "outputId": "4bb66dd5-e692-4745-a0d8-811aaabfa1b3"
      },
      "outputs": [
        {
          "data": {
            "text/plain": [
              "<matplotlib.axes._subplots.AxesSubplot at 0x7f99e3763c50>"
            ]
          },
          "execution_count": 59,
          "metadata": {},
          "output_type": "execute_result"
        },
        {
          "data": {
            "image/png": "[encoded data removed]",
            "text/plain": [
              "<Figure size 432x288 with 1 Axes>"
            ]
          },
          "metadata": {},
          "output_type": "display_data"
        }
      ],
      "source": [
        "sns.scatterplot(x=sample_df.Start_Lng, y=sample_df.Start_Lat, size=0.001)"
      ]
    },
    {
      "cell_type": "markdown",
      "metadata": {
        "id": "hBpcI8ncpl8V"
      },
      "source": [
        "##Start Latitude & Longitude"
      ]
    },
    {
      "cell_type": "code",
      "execution_count": 60,
      "metadata": {
        "id": "H5BSrH1JuYAM"
      },
      "outputs": [],
      "source": [
        "import folium"
      ]
    },
    {
      "cell_type": "code",
      "execution_count": 62,
      "metadata": {
        "colab": {
          "base_uri": "https://localhost:8080/"
        },
        "id": "PowwkbvuuX9t",
        "outputId": "3e156242-2464-448d-ecd1-ba843989b950"
      },
      "outputs": [
        {
          "data": {
            "text/plain": [
              "(40.10891, -83.09286)"
            ]
          },
          "execution_count": 62,
          "metadata": {},
          "output_type": "execute_result"
        }
      ],
      "source": [
        "import folium\n",
        "lat, lon = df.Start_Lat[0], df.Start_Lng[0]\n",
        "lat, lon"
      ]
    },
    {
      "cell_type": "code",
      "execution_count": 63,
      "metadata": {
        "colab": {
          "base_uri": "https://localhost:8080/"
        },
        "id": "EIdsy32xuX61",
        "outputId": "fe4d5389-443f-4e2e-b8fa-b39d1a6cea87"
      },
      "outputs": [
        {
          "name": "stdout",
          "output_type": "stream",
          "text": [
            "733845     33.568014\n",
            "822852     37.492420\n",
            "2807636    45.587230\n",
            "2488920    45.709277\n",
            "1466026    34.044604\n",
            "             ...    \n",
            "2074408    40.264420\n",
            "2167194    45.536810\n",
            "240274     34.376055\n",
            "4648       37.864320\n",
            "2703331    38.988950\n",
            "Name: Start_Lat, Length: 100, dtype: float64\n",
            "733845    -117.210644\n",
            "822852    -120.776084\n",
            "2807636    -94.366450\n",
            "2488920   -123.232890\n",
            "1466026   -118.009887\n",
            "              ...    \n",
            "2074408    -84.183300\n",
            "2167194   -122.286540\n",
            "240274    -117.555082\n",
            "4648      -122.302870\n",
            "2703331    -76.883520\n",
            "Name: Start_Lng, Length: 100, dtype: float64\n"
          ]
        }
      ],
      "source": [
        "for x in df[['Start_Lat', 'Start_Lng']].sample(100).iteritems():\n",
        "    print(x[1])"
      ]
    },
    {
      "cell_type": "code",
      "execution_count": 64,
      "metadata": {
        "colab": {
          "base_uri": "https://localhost:8080/"
        },
        "id": "aD404PhoxKEW",
        "outputId": "e30177ed-46c2-4ac1-93b3-9792b7ddb5cb"
      },
      "outputs": [
        {
          "data": {
            "text/plain": [
              "<zip at 0x7f99e222c7d0>"
            ]
          },
          "execution_count": 64,
          "metadata": {},
          "output_type": "execute_result"
        }
      ],
      "source": [
        "zip(list(df.Start_Lat), list(df.Start_Lng))"
      ]
    },
    {
      "cell_type": "code",
      "execution_count": 65,
      "metadata": {
        "id": "d-xcQ7_kxKB8"
      },
      "outputs": [],
      "source": [
        "from folium.plugins import HeatMap"
      ]
    },
    {
      "cell_type": "code",
      "execution_count": 66,
      "metadata": {
        "id": "goP_F_DWxJ_Z"
      },
      "outputs": [],
      "source": [
        "sample_df = df.sample(int(0.001 * len(df)))\n",
        "lat_lon_pairs = list(zip(list(sample_df.Start_Lat), list(sample_df.Start_Lng)))"
      ]
    },
    {
      "cell_type": "code",
      "execution_count": 68,
      "metadata": {
        "colab": {
          "base_uri": "https://localhost:8080/",
          "height": 808
        },
        "id": "LQVeLO1vxJ9S",
        "outputId": "5dd3c995-2eae-4c48-a1e1-a1e2cf77ba8b"
      },
      "outputs": [
        {
          "data": {
            "text/html": [
              "<div style=\"width:100%;\"><div style=\"position:relative;width:100%;height:0;padding-bottom:60%;\"><span style=\"color:#565656\">Make this Notebook Trusted to load map: File -> Trust Notebook</span><iframe srcdoc=\"&lt;!DOCTYPE html&gt;\n",
              "&lt;html&gt;\n",
              "&lt;head&gt;\n",
              "    \n",
              "    &lt;meta http-equiv=&quot;content-type&quot; content=&quot;text/html; charset=UTF-8&quot; /&gt;\n",
              "    \n",
              "        &lt;script&gt;\n",
              "            L_NO_TOUCH = false;\n",
              "            L_DISABLE_3D = false;\n",
              "        &lt;/script&gt;\n",
              "    \n",
              "    &lt;style&gt;html, body {width: 100%;height: 100%;margin: 0;padding: 0;}&lt;/style&gt;\n",
              "    &lt;style&gt;#map {position:absolute;top:0;bottom:0;right:0;left:0;}&lt;/style&gt;\n",
              "    &lt;script src=&quot;https://cdn.jsdelivr.net/npm/leaflet@1.6.0/dist/leaflet.js&quot;&gt;&lt;/script&gt;\n",
              "    &lt;script src=&quot;https://code.jquery.com/jquery-1.12.4.min.js&quot;&gt;&lt;/script&gt;\n",
              "    &lt;script src=&quot;https://maxcdn.bootstrapcdn.com/bootstrap/3.2.0/js/bootstrap.min.js&quot;&gt;&lt;/script&gt;\n",
              "    &lt;script src=&quot;https://cdnjs.cloudflare.com/ajax/libs/Leaflet.awesome-markers/2.0.2/leaflet.awesome-markers.js&quot;&gt;&lt;/script&gt;\n",
              "    &lt;link rel=&quot;stylesheet&quot; href=&quot;https://cdn.jsdelivr.net/npm/leaflet@1.6.0/dist/leaflet.css&quot;/&gt;\n",
              "    &lt;link rel=&quot;stylesheet&quot; href=&quot;https://maxcdn.bootstrapcdn.com/bootstrap/3.2.0/css/bootstrap.min.css&quot;/&gt;\n",
              "    &lt;link rel=&quot;stylesheet&quot; href=&quot;https://maxcdn.bootstrapcdn.com/bootstrap/3.2.0/css/bootstrap-theme.min.css&quot;/&gt;\n",
              "    &lt;link rel=&quot;stylesheet&quot; href=&quot;https://maxcdn.bootstrapcdn.com/font-awesome/4.6.3/css/font-awesome.min.css&quot;/&gt;\n",
              "    &lt;link rel=&quot;stylesheet&quot; href=&quot;https://cdnjs.cloudflare.com/ajax/libs/Leaflet.awesome-markers/2.0.2/leaflet.awesome-markers.css&quot;/&gt;\n",
              "    &lt;link rel=&quot;stylesheet&quot; href=&quot;https://cdn.jsdelivr.net/gh/python-visualization/folium/folium/templates/leaflet.awesome.rotate.min.css&quot;/&gt;\n",
              "    \n",
              "            &lt;meta name=&quot;viewport&quot; content=&quot;width=device-width,\n",
              "                initial-scale=1.0, maximum-scale=1.0, user-scalable=no&quot; /&gt;\n",
              "            &lt;style&gt;\n",
              "                #map_617e8b5c82f1263cdc1be15cf304adb5 {\n",
              "                    position: relative;\n",
              "                    width: 100.0%;\n",
              "                    height: 100.0%;\n",
              "                    left: 0.0%;\n",
              "                    top: 0.0%;\n",
              "                }\n",
              "            &lt;/style&gt;\n",
              "        \n",
              "    &lt;script src=&quot;https://cdn.jsdelivr.net/gh/python-visualization/folium@master/folium/templates/leaflet_heat.min.js&quot;&gt;&lt;/script&gt;\n",
              "&lt;/head&gt;\n",
              "&lt;body&gt;\n",
              "    \n",
              "    \n",
              "            &lt;div class=&quot;folium-map&quot; id=&quot;map_617e8b5c82f1263cdc1be15cf304adb5&quot; &gt;&lt;/div&gt;\n",
              "        \n",
              "&lt;/body&gt;\n",
              "&lt;script&gt;\n",
              "    \n",
              "    \n",
              "            var map_617e8b5c82f1263cdc1be15cf304adb5 = L.map(\n",
              "                &quot;map_617e8b5c82f1263cdc1be15cf304adb5&quot;,\n",
              "                {\n",
              "                    center: [0, 0],\n",
              "                    crs: L.CRS.EPSG3857,\n",
              "                    zoom: 1,\n",
              "                    zoomControl: true,\n",
              "                    preferCanvas: false,\n",
              "                }\n",
              "            );\n",
              "\n",
              "            \n",
              "\n",
              "        \n",
              "    \n",
              "            var tile_layer_62cae38969ccafae8e81bd75fdced8db = L.tileLayer(\n",
              "                &quot;https://{s}.tile.openstreetmap.org/{z}/{x}/{y}.png&quot;,\n",
              "                {&quot;attribution&quot;: &quot;Data by \\u0026copy; \\u003ca href=\\&quot;http://openstreetmap.org\\&quot;\\u003eOpenStreetMap\\u003c/a\\u003e, under \\u003ca href=\\&quot;http://www.openstreetmap.org/copyright\\&quot;\\u003eODbL\\u003c/a\\u003e.&quot;, &quot;detectRetina&quot;: false, &quot;maxNativeZoom&quot;: 18, &quot;maxZoom&quot;: 18, &quot;minZoom&quot;: 0, &quot;noWrap&quot;: false, &quot;opacity&quot;: 1, &quot;subdomains&quot;: &quot;abc&quot;, &quot;tms&quot;: false}\n",
              "            ).addTo(map_617e8b5c82f1263cdc1be15cf304adb5);\n",
              "        \n",
              "    \n",
              "            var heat_map_03eb980fa94d3e2c1fe0e9bcc71d4d45 = L.heatLayer(\n",
              "                [[30.149694, -97.792707], [33.858344, -118.096283], [38.684628, -120.985896], [25.868197, -80.236372], [37.752778, -121.142222], [37.82299, -112.41591499999998], [28.206556, -82.377291], [39.0165, -76.486526], [35.139687, -118.643639], [29.80697, -94.97077], [44.567831, -120.156708], [27.90922, -82.34078000000002], [30.367865, -97.694316], [27.937616, -82.294496], [41.580222, -73.909031], [38.93819600000001, -94.705356], [43.08075, -121.825858], [33.854001000000004, -117.959244], [38.038564, -122.261014], [33.873928, -118.231934], [44.360988, -122.880029], [33.73921, -117.83389], [32.675709999999995, -96.85799], [35.148268, -80.803282], [32.917120000000004, -117.1162], [33.462158, -112.035346], [41.42688, -72.6356], [27.196614, -80.399938], [33.14844, -117.33446], [42.11035, -122.61719], [37.899538, -122.210465], [39.356447, -123.509352], [40.71768400000001, -111.837809], [44.41928, -75.778616], [37.71039, -113.06157], [33.960012, -118.285317], [39.661069, -74.201236], [42.92844, -78.76616999999997], [29.940518, -90.077936], [34.448429, -82.574539], [39.146804, -84.85862], [43.597404, -116.299725], [45.510231, -122.687877], [40.302764, -111.72602], [43.15465, -88.059191], [33.945318, -118.09439], [39.514808, -121.444004], [40.524669, -74.315053], [44.14949, -121.26639], [41.93847, -88.00339], [28.670893, -80.871809], [25.86293, -80.32267], [37.603728, -77.479355], [44.64709000000001, -121.94638], [41.54965, -72.8173], [25.696737, -80.29312900000002], [37.134593, -121.635164], [33.982141, -117.842184], [30.332011, -82.761052], [42.161151, -88.050543], [36.842404, -121.457709], [33.751298, -84.45036999999998], [39.296489, -77.334974], [34.56232, -86.97414], [44.454413, -117.328807], [34.079274, -118.15195], [38.25613, -122.06417], [36.298442, -86.722734], [33.620635, -117.71326], [36.257957, -86.733168], [47.624271, -122.328146], [40.00613, -75.78584000000002], [34.096872999999995, -118.477045], [45.672471, -94.174916], [41.55511, -109.315456], [40.720687, -73.300405], [35.064664, -80.77159499999998], [44.272494, -121.163292], [26.603167, -81.624916], [42.996561, -85.639923], [32.236154, -110.943967], [37.70169, -121.88288], [28.5054, -81.42251], [33.743320000000004, -117.1091], [34.89209, -81.968393], [25.866159, -80.338483], [32.79503, -96.71833], [46.86385, -95.99806], [47.264798, -122.322435], [34.01157, -118.419337], [42.12213, -71.22919], [33.63176, -84.39544000000002], [39.56965, -105.11012], [44.58481, -93.29763], [45.886641, -111.864842], [38.853051, -76.983787], [38.960142, -93.194876], [48.18235900000001, -114.107074], [33.87639, -118.07665], [37.687428, -118.941918], [37.80641, -121.990595], [37.34982, -121.86178], [47.496582, -94.913938], [40.992437, -73.661816], [42.43171, -71.25956], [37.892585, -122.159525], [33.112277, -80.15854300000002], [37.39485, -77.77948], [28.560451, -81.19122800000002], [44.860271, -93.247313], [34.010308, -117.823429], [39.118685, -109.176743], [34.269608000000005, -79.690905], [45.024343, -93.190337], [42.688918, -73.842671], [34.952201, -120.416457], [25.702121, -80.337124], [38.63969, -121.48505], [30.440452, -91.214648], [45.542355, -122.498994], [38.552932, -121.33616299999998], [38.043666, -120.322265], [47.653285, -122.187258], [28.492772, -81.39675600000002], [35.287847, -80.850063], [45.007487, -123.382744], [34.070221999999994, -117.202015], [37.890279, -121.569702], [38.84713, -77.42985999999998], [40.77029, -73.56474], [39.290966, -76.502186], [32.92394, -96.77966], [34.068453000000005, -117.374697], [35.923758, -120.024679], [39.40254, -77.42931], [37.148699, -119.503075], [34.825775, -82.308696], [26.84015, -80.12986], [30.319336, -97.585383], [33.988634000000005, -117.909996], [38.79336, -77.04675999999998], [29.67739000000001, -95.4237], [44.99921, -93.28299], [34.497817, -82.283277], [34.114346999999995, -80.308498], [25.77818, -80.165234], [33.176979, -117.351392], [38.007533, -120.302661], [33.975072999999995, -118.383756], [38.878329, -121.12181], [45.419443, -120.17793], [30.195534, -93.515625], [35.875408, -78.576476], [43.035019, -76.641514], [40.681761, -74.00245699999998], [32.473021, -93.838233], [39.14051, -84.60428], [46.595882, -92.334862], [36.150341, -118.602681], [41.757747, -72.65212700000002], [34.326777, -119.094927], [32.607261, -80.99850699999998], [43.424674, -83.890648], [25.943633, -80.205311], [33.821757, -78.905142], [34.11854, -117.8654], [41.91263, -73.01772], [34.067322999999995, -117.554317], [32.815924, -96.867957], [39.69797, -83.452373], [42.278478, -83.152847], [37.81890900000001, -89.22802], [33.92584, -118.28171], [39.054731, -119.943476], [33.594031, -117.728565], [33.999132, -117.929503], [39.961407, -75.148176], [38.101733, -122.229799], [33.83518, -118.28749], [44.33834, -120.56768999999998], [40.165629, -75.474575], [32.777991, -96.674893], [40.10982, -79.38226], [28.52093, -81.28702], [30.353983000000003, -90.961622], [33.906578, -117.881798], [48.855439, -122.584236], [33.414758, -112.014396], [33.880225, -118.192127], [38.849333, -77.35169300000003], [41.79673, -87.8075], [41.295174, -73.822453], [30.629618, -87.1644], [32.945113, -117.242665], [34.14474000000001, -118.27866000000002], [33.942029, -118.011573], [45.219682, -85.173572], [37.295805, -76.677413], [33.881591, -84.839221], [42.49466, -124.41347], [41.098988, -73.94849599999998], [40.782548, -74.244371], [44.164607, -123.20127], [40.724612, -111.951617], [30.368624, -83.247281], [35.618293, -82.263049], [38.76926, -94.945939], [40.652432, -76.903954], [25.699401, -80.382109], [44.93773, -93.34919], [39.903859, -74.96668100000002], [30.006226, -90.020395], [25.848953, -80.241912], [40.278486, -79.63429000000002], [38.72894, -121.285934], [40.746168, -122.057549], [42.179871, -120.454262], [40.909581, -73.87751], [33.74345, -84.38338], [28.493739, -81.37451999999998], [35.396881, -118.913281], [33.826840000000004, -84.23044], [25.76089, -80.483018], [44.7681, -94.09329], [27.562917, -81.51270799999998], [45.107958, -93.301158], [25.883586, -80.22675500000003], [40.65665, -75.59018], [33.446791999999995, -112.108126], [34.26965, -118.4467], [40.201131, -77.383199], [38.37132, -75.53226], [34.199293, -91.971802], [38.876703000000006, -77.277709], [25.738141, -80.399916], [45.035823, -92.852743], [39.820021, -85.837501], [37.668965, -122.109403], [44.060535, -121.302524], [41.03565, -73.754726], [33.806573, -84.380697], [25.886303, -80.208988], [34.343272, -117.921227], [36.12143, -86.75633], [29.992965, -90.080541], [36.11147, -80.1644], [40.631638, -111.904271], [26.18241, -80.15254], [42.77442, -71.24231999999998], [33.877203, -118.145649], [30.18346, -81.633268], [25.92239, -80.2115], [38.320583, -121.46528700000002], [41.98234, -87.7926], [32.819278999999995, -96.838878], [37.21026, -103.6389], [44.07783, -123.04729], [30.458661, -87.33493100000004], [43.12274, -76.14191], [33.907312, -81.223177], [38.55373400000001, -121.375841], [32.83246, -116.96685], [33.859907, -117.716461], [36.24925, -77.086225], [42.36405, -83.07944], [32.8379, -97.0772], [25.80803, -80.31314499999998], [35.25976, -80.87469], [34.149159999999995, -118.37314], [36.213377, -94.181902], [28.55253, -81.38238], [41.324744, -76.973353], [35.589903, -82.575599], [40.760371, -74.051007], [25.929874, -80.18833000000002], [26.67735, -80.10388], [40.71402, -74.28184], [43.100361, -83.597584], [32.696026, -96.84259], [41.893565, -83.379201], [29.667174, -82.434972], [37.600393, -121.872806], [38.81631, -104.83007], [33.67308, -111.979357], [32.54818, -86.45768000000002], [41.181554, -73.194311], [46.518921, -93.675025], [35.18592, -80.72998], [47.537401, -122.334705], [41.97629000000001, -72.32739000000002], [40.056733, -74.887961], [35.86417, -78.81910400000002], [40.62358, -122.466094], [38.610638, -121.401529], [37.027493, -122.099628], [39.915858, -77.65468299999998], [33.582025, -112.104352], [34.697261, -118.05923], [42.755706, -83.504492], [36.794524, -119.709135], [36.833989, -76.137025], [47.23844, -122.41662], [41.058357, -75.55449200000002], [37.749828, -122.204607], [36.444906, -119.48341299999998], [25.625382, -80.382178], [33.868054, -118.285073], [37.554391, -77.446264], [34.20112, -118.469742], [30.16517, -82.857795], [41.164457, -112.026031], [39.28241, -84.56437], [39.766556, -120.618972], [34.046291, -117.773721], [25.925994, -80.15794100000002], [32.978903, -117.086099], [44.337965, -121.177815], [43.338457, -122.765232], [34.060331, -117.967702], [43.145778, -77.542364], [46.611288, -92.553387], [34.06859, -117.395894], [38.328951, -85.544141], [33.71791, -84.238668], [40.563549, -74.32343900000002], [35.869942, -84.379731], [30.2968, -81.77094], [40.6473, -74.20257], [25.763151, -80.302214], [33.920577, -118.082588], [25.863028, -80.322622], [43.275709, -76.390202], [35.18882, -80.87562], [38.645598, -122.591557], [35.22068, -80.64748], [41.591748, -72.903046], [26.08805, -80.20803000000002], [36.003511, -83.740305], [43.98159, -117.14889], [37.655927, -121.900807], [41.62261, -87.64138], [33.815296999999994, -117.51176], [35.144625, -80.927749], [34.362475, -118.50489], [39.116231, -94.564486], [33.938669, -117.135484], [37.788453, -122.251219], [41.79903, -83.45862], [34.06882, -117.35705], [35.783506, -78.811103], [36.1936, -86.76324], [39.422861, -123.802365], [27.815897, -82.728471], [25.945914, -80.205394], [25.926024, -80.156413], [34.121334999999995, -118.479405], [33.75997, -81.36941999999998], [33.86026, -117.7174], [40.68806, -74.10022], [34.01065, -118.2811], [37.47031, -122.15752], [42.290571, -83.130787], [38.322888, -77.469145], [41.8832, -87.63976], [33.848903, -98.575208], [36.053452, -86.672874], [38.830418, -77.1249], [40.854571, -73.968244], [37.183787, -93.225144], [25.626002, -80.382204], [29.655559000000004, -95.516922], [27.90416500000001, -82.729219], [28.297458, -82.707202], [33.759697, -84.291759], [36.300254, -119.798732], [39.942544, -75.142933], [36.755038, -80.781442], [38.478054, -77.588593], [42.962755, -85.621893], [45.52565, -122.6607], [33.53836, -112.2031], [39.619842, -77.780402], [37.684779, -121.05078799999998], [27.530871, -82.50345300000002], [28.416339, -81.422927], [42.309641, -122.847112], [40.036138, -76.343581], [35.86133, -78.84455], [45.511432, -122.705537], [33.461061, -112.099932], [28.027828000000003, -82.209008], [37.662261, -122.104964], [38.55512, -121.40368], [45.596812, -109.101952], [38.43635, -78.85361999999998], [38.739461, -122.148267], [34.067399, -117.571285], [42.793557, -76.843675], [36.978255, -121.508497], [45.94488, -95.59901], [34.156271999999994, -118.264356], [33.912397, -118.370564], [42.697727, -73.843228], [30.428937, -97.72693], [41.456102, -81.690834], [36.727719, -119.96995], [42.892481, -78.891867], [35.170077, -80.744579], [33.876459999999994, -118.10278], [36.100033, -120.059496], [34.056344, -118.241267], [33.953061, -117.304355], [33.707288, -84.247938], [29.83158, -95.38293], [34.068870000000004, -118.04218], [40.886332, -73.898674], [34.035726000000004, -117.926312], [35.062406, -85.30663100000002], [34.043642, -117.800924], [33.95474, -118.107561], [34.135862, -117.576445], [38.660848, -121.350513], [39.93086, -82.85748000000002], [38.806877, -90.884756], [37.104939, -77.54048399999998], [39.379404, -76.45607199999998], [46.202586, -93.77158], [38.353292, -81.627891], [29.69351, -95.245855], [40.86743, -74.00525999999998], [34.15534, -118.444782], [43.612255, -116.294131], [33.85115, -84.24648], [33.386195, -111.828938], [41.741574, -72.634007], [34.0587, -117.54518], [38.862916, -76.848456], [36.11655800000001, -86.81049399999998], [41.77412, -72.66821], [32.852058, -117.11541], [35.85289, -78.80256999999997], [40.06658, -74.16171], [27.69572800000001, -80.894826], [33.45902, -111.99411], [34.865078000000004, -120.437981], [46.00066, -118.38738], [27.942963, -82.544907], [33.938065, -117.130404], [41.51751, -73.97362], [39.22877, -77.28293000000002], [37.493426, -119.976843], [32.894762, -96.803852], [36.58921, -86.60413], [45.492389, -122.656449], [36.315191, -86.651645], [38.907445, -77.009003], [37.830673, -122.293358], [39.507468, -76.269932], [37.37596, -77.50841], [33.931959, -118.28], [45.29375, -118.037], [29.848227, -95.318847], [40.69129, -74.26723], [37.160989, -121.661492], [32.79575, -96.6922], [35.167766, -80.87604], [32.67602, -96.85769], [34.040836, -118.21871000000002], [38.477715, -105.890918], [43.296427, -122.915953], [32.84506, -79.98482], [36.476547, -119.441505], [38.019101, -121.937152], [34.862348, -82.282384], [27.989855, -82.75462399999998], [34.007027, -117.928659], [38.04287, -122.24126], [39.2916, -84.44216999999998], [32.766512, -97.3162], [38.0186, -122.540244], [30.011374, -95.80259], [27.95167, -82.51243000000002], [44.85647, -117.81663], [44.53785, -121.99497], [34.071694, -118.132452], [28.502718, -81.39681], [38.026775, -121.95733], [36.345677, -119.057202], [42.565551, -77.715128], [29.745924, -95.55768], [40.445402, -79.84855], [37.332386, -122.055837], [28.181797, -82.719426], [37.815853, -122.251278], [37.510857, -77.424977], [30.355936, -97.684385], [27.298776, -82.490887], [33.7868, -84.39081999999998], [30.269361, -84.23791700000002], [33.396809999999995, -84.594077], [42.4172, -123.37549], [42.305819, -88.07961800000002], [38.584261, -121.38304], [35.147742, -85.77615300000002], [46.15209, -123.85383], [33.96385, -118.36992], [27.381759, -82.522183], [45.202457, -123.129218], [40.279564, -76.924458], [38.00354, -122.53896], [32.45957, -80.896571], [38.624338, -121.328178], [44.247448, -120.95328], [25.708543, -80.284349], [25.80702, -80.2057], [33.87652, -118.08778], [26.211289, -81.79956800000002], [37.388935, -120.731802], [40.70481, -73.63842], [33.930890999999995, -118.310981], [30.496447, -87.178416], [44.862445, -93.120771], [32.778805, -117.106073], [34.070027, -117.103504], [32.028126, -86.510971], [34.03944, -118.58935], [33.521953, -86.826103], [33.745653000000004, -84.345247], [34.050199, -118.215395], [40.849698, -73.94293], [33.76483, -117.86547], [39.349752, -77.094513], [28.069247, -82.4499], [45.096364, -93.187999], [30.239298, -97.754351], [40.114743, -75.322053], [37.85013, -122.22324], [34.713713, -80.106607], [42.09252, -76.03814], [34.472882, -120.129182], [42.745855, -124.49742], [34.034942, -117.144221], [33.92853, -118.2304], [43.970021, -92.009543], [34.23251, -118.472985], [45.34741, -122.65248], [38.91913, -77.1006], [32.85995, -96.77017], [33.590255, -117.725225], [38.663452, -75.070363], [28.224392, -82.715899], [40.711008, -111.80167], [44.89142, -93.44176], [26.136421, -80.17439499999998], [40.421041, -80.043278], [38.57513, -121.5443], [38.991991, -76.885875], [28.57473400000001, -81.451965], [42.606759, -83.208585], [40.220919, -76.855653], [37.094723, -80.484412], [25.627434, -80.37974399999997], [40.821043, -74.027606], [37.492206, -122.386081], [32.72544, -96.8915], [28.539113, -81.28684100000002], [33.53787, -112.2205], [40.295058, -75.27852299999998], [33.955532, -84.516566], [25.9611, -80.195107], [33.765696000000005, -117.960129], [43.219692, -124.305061], [40.87402, -111.89223], [38.739276, -120.693743], [44.9668, -93.22419], [44.975996, -93.281487], [36.752938, -119.827103], [27.76297000000001, -82.66218], [38.212332, -122.54973], [38.012939, -122.000109], [33.741899, -117.837713], [34.79083, -82.490169], [41.913298, -72.61334000000002], [39.154322, -123.197327], [42.429839, -87.825673], [33.646632000000004, -112.400863], [34.04784, -118.26657], [40.68975, -73.56574], [33.70628, -81.05605600000001], [33.194927, -117.249938], [34.2721, -118.35299], [39.18217, -76.60501500000002], [44.441414, -92.605278], [27.298788, -82.495737], [34.385136, -112.091134], [34.201254, -118.401114], [28.081627, -82.70144499999998], [34.134749, -117.62437], [38.970104, -77.431737], [37.32548, -77.399744], [25.811451, -80.135829], [33.336434999999994, -86.936198], [30.44547, -91.179521], [35.183576, -80.753213], [30.173825, -82.671809], [35.090634, -81.69139], [34.05409, -118.23779], [34.01676, -118.17334], [36.533628, -119.57542], [33.984693, -118.37055], [45.688195, -123.920286], [34.671274, -92.417474], [30.157889, -95.450001], [34.000705, -84.03890600000003], [33.92458, -118.10401], [34.261553, -118.440168], [26.10682000000001, -80.16786], [40.231794, -76.936966], [28.076838, -81.253412], [28.358076, -81.508882], [40.552141, -79.750663], [45.075863, -93.326336], [37.173409, -118.30546499999998], [34.199463, -91.971992], [39.64507, -106.38209], [37.48062, -76.922074], [34.173645, -118.553468], [33.991937, -117.354483], [34.036089000000004, -118.321251], [38.983802, -76.56599], [45.276267, -93.738051], [30.413479, -91.076875], [37.213018, -121.726569], [34.135459999999995, -117.96663], [35.003781, -85.233213], [29.736733, -95.500827], [32.734320000000004, -96.68297], [33.32326, -80.55275], [40.201806, -78.96676], [34.1211, -118.47972], [32.19183, -110.81963600000002], [33.777519, -117.858141], [38.000581, -122.054101], [47.67385, -117.281845], [37.649584, -122.097102], [40.77969, -72.84823], [28.148914, -82.407878], [25.9321, -80.20384], [32.51308, -93.75542], [29.965295, -95.418983], [33.764374, -84.38444799999998], [25.744406, -80.225792], [29.802078, -95.451332], [27.269298, -82.512105], [32.90883, -96.893219], [36.677225, -78.600222], [33.779270000000004, -118.20711], [34.078632, -117.740792], [33.678621, -78.96512299999998], [30.401734, -91.152717], [36.373824, -121.561546], [38.433473, -122.722187], [37.648513, -120.492081], [38.71107, -90.44812], [34.279090000000004, -118.46963999999998], [25.761065, -80.415778], [30.532606, -88.24889399999998], [34.196281, -118.474222], [42.197297, -87.98745799999998], [25.673733, -80.323185], [30.359106, -87.154522], [33.802091, -117.879227], [32.398306, -93.762871], [41.706152, -72.645045], [42.49051, -123.3627], [34.023406, -117.748134], [25.92184, -80.21123], [35.27219, -80.85431], [30.600964, -87.157505], [32.224376, -110.968924], [33.916933, -81.098784], [40.85171, -73.95254], [33.9237, -118.10439], [29.72420300000001, -95.490724], [40.707976, -73.957491], [32.33732, -111.02944], [39.3815, -76.73791], [37.89741, -122.311741], [27.300548, -82.49762700000002], [33.66917, -112.05281200000002], [38.823527, -121.908084], [34.019859999999994, -118.49738], [35.77923, -78.70557], [29.741253000000004, -95.454621], [34.064575, -118.000208], [33.49785, -86.78924599999998], [33.632726, -117.725673], [42.62821, -82.95347], [32.72357, -117.15877], [42.615449, -123.37862], [35.38329, -118.930217], [34.031354, -118.274455], [39.0136, -77.045845], [38.260177, -120.742868], [42.681723, -114.512804], [42.175598, -122.659849], [35.156191, -120.534678], [35.26054, -81.10004], [44.683038, -117.6596], [42.433052, -122.14933899999998], [35.372493, -118.927518], [40.932532, -73.87903], [39.884868, -77.035485], [45.698195, -110.476209], [40.70711, -111.8713], [38.735236, -120.839165], [39.814033, -84.13260600000002], [39.020894, -94.501122], [30.419433, -91.094823], [44.956828, -93.1947], [40.75092, -111.718826], [35.881787, -87.82799999999996], [46.832306, -95.724301], [45.2126, -93.41291], [40.824314, -73.874416], [28.720103, -81.376021], [34.028467, -118.229938], [34.499613000000004, -82.997621], [43.125227, -75.297437], [43.626462, -116.619712], [42.605536, -73.87766500000002], [32.2757, -90.19353], [35.189382, -89.804665], [34.708991999999995, -80.803619], [42.431505, -122.161992], [39.017497, -76.994011], [43.21117, -123.35497], [35.2381, -118.842512], [34.14305, -118.74353], [38.611847, -77.30269], [33.782304, -118.091558], [45.847423, -119.290182], [25.773014, -80.38140200000002], [38.91678, -76.93264], [37.99355900000001, -77.49365300000002], [38.80023, -77.166], [34.8272, -82.29316999999998], [27.87222, -82.74551], [38.768557, -121.250696], [37.386614, -121.90553], [37.592486, -122.056632], [45.60879, -118.65016], [25.771634, -80.265664], [30.534106, -87.092496], [30.017406, -89.99435600000002], [26.627879, -80.06731500000002], [44.54182, -92.940995], [25.573157, -80.429437], [36.141299, -86.731852], [40.67618, -112.02473], [35.307902, -112.851272], [33.413936, -117.147659], [39.833699, -75.424319], [34.030946, -117.133788], [44.70771, -123.05346000000002], [43.304887, -122.956574], [27.337413, -82.499421], [27.111431, -82.338557], [33.13685, -117.16668], [42.7025, -83.28643000000002], [40.11501, -75.471132], [34.623815, -117.826984], [29.428648, -98.50088], [44.16056, -121.25876], [45.36637, -93.96249], [36.96673, -76.294566], [40.86316, -73.91135], [42.952954, -83.72305], [42.892378, -73.861728], [47.25441, -122.43658], [39.6798, -86.341698], [32.79703, -96.81614], [28.625597, -81.415109], [25.930202, -80.188344], [33.876203000000004, -118.159974], [36.856127, -121.641678], [33.61745, -84.39725], [34.028296999999995, -118.186256], [25.80546, -80.32099000000002], [41.93075, -87.95361], [37.26253, -113.294915], [29.654441, -95.575561], [37.9861, -122.525], [33.019805, -96.709296], [36.834057, -119.78519], [34.154546999999994, -118.15761299999998], [33.80613, -118.14246], [33.59764000000001, -117.240832], [42.98023, -78.9101], [34.800835, -91.745184], [29.545336, -98.579775], [45.54104, -122.69858], [33.195678, -80.615972], [41.84682700000001, -71.87939200000002], [35.33279, -80.79906], [36.902127, -121.771635], [40.05298, -74.17935], [33.84659, -118.223771], [45.109563, -93.468641], [30.008678000000003, -90.013746], [38.680362, -121.371272], [40.619486, -111.89061], [34.060127, -118.215023], [42.625556, -83.09875600000002], [34.222051, -117.404576], [32.9386, -96.82194], [35.064722, -80.953799], [35.37329000000001, -119.11006299999998], [38.47954, -121.371969], [32.722467, -117.15531], [36.047609, -86.863776], [33.909977000000005, -84.36385200000002], [34.747901, -81.042812], [43.614456, -116.354484], [37.833255, -122.26588999999998], [38.304301, -77.503056], [37.562911, -121.904296], [38.673863, -121.380781], [34.005218, -81.279636], [46.14823, -123.91675], [44.85979, -93.29808], [30.492136, -83.72073], [29.536818, -98.384445], [38.91723, -76.97807], [28.495335, -81.396918], [44.450904, -92.897176], [40.525506, -74.343913], [25.813438, -80.31345999999998], [34.09662, -118.477173], [39.85472, -84.36723], [40.89167, -74.47948000000002], [41.28779, -74.14066600000002], [25.963746, -80.147486], [33.45225, -117.135129], [37.375294, -120.687334], [25.69874, -80.33406], [37.514376, -120.811688], [33.63903, -117.73038], [28.01506, -82.73679], [37.484096, -76.94572], [29.39627, -98.50703], [34.052331, -118.259296], [33.461683, -112.11411499999998], [33.89678, -117.48406], [34.666629, -82.39471400000002], [27.916619, -82.789713], [40.78510900000001, -77.78472], [37.87287, -109.26946], [30.126228, -97.641221], [34.420257, -80.5335], [40.71057, -74.14837], [34.030237, -118.039355], [31.449859000000004, -83.481087], [44.89465300000001, -93.251255], [40.37159000000001, -122.284322], [33.982042, -118.2477], [34.023139, -117.811667], [41.756201, -74.057846], [43.33942, -71.91001999999997], [27.99211, -82.453801], [29.996656, -90.138541], [44.781225, -93.476026], [25.712975, -80.382449], [40.69465, -73.54139], [33.385509000000006, -111.920675], [27.777253, -82.681448], [37.172715, -122.072364], [33.949675, -118.170308], [34.017156, -117.817024], [37.16425, -121.99052], [40.890673, -74.004067], [40.763749, -73.953369], [38.464099, -122.72678700000002], [44.955688, -93.270543], [42.25833, -73.74646], [41.732935, -72.75198], [37.86722, -122.20092], [36.432571, -82.51994599999998], [37.08976, -122.090072], [39.669868, -75.600348], [37.107642, -77.35923100000002], [33.984581, -118.358009], [41.84566, -87.98301], [28.381298, -81.42532800000002], [32.447191, -93.720885], [39.04204, -76.90388], [41.57321, -72.72229], [34.135335999999995, -117.97446200000002], [25.955008, -80.18532900000002], [38.49601, -121.42903], [25.94186, -80.18885], [34.083062, -117.695446], [34.777536, -82.467095], [37.349837, -121.838962], [30.529068, -87.326673], [37.677573, -121.047052], [33.152156, -97.06118], [39.6974, -86.18135], [27.945281, -82.73025799999998], [38.125036, -112.63249], [38.386099, -122.769272], [38.53779, -121.47981], [41.826027, -71.418839], [37.661633, -120.45948], [41.14435, -75.9631], [39.469332, -75.04453199999998], [28.435979, -81.40539799999998], [34.789615000000005, -82.48161999999998], [42.34585, -87.91615], [26.330518, -81.809083], [37.609431, -77.450499], [46.147282, -123.917508], [43.104184, -89.31641], [32.791145, -96.749667], [39.992775, -75.200879], [29.654940000000003, -82.41475], [40.69627, -75.18918000000002], [28.578613, -81.476138], [41.51866, -88.19108], [39.01275, -77.09351099999998], [25.760886, -80.395587], [31.312575, -92.475666], [44.727124, -122.701536], [43.161426, -77.593399], [34.208438, -118.473459], [34.034711, -118.338299], [25.908516, -80.187297], [37.956603, -122.548813], [25.631644, -80.41476800000002], [32.676888, -96.856908], [40.804907, -73.911241], [40.206223, -122.245692], [32.746831, -117.109022], [41.168754, -79.049832], [43.23882, -77.063259], [37.705078, -121.07673], [32.778079, -96.52161], [30.652088, -88.122362], [33.803258, -118.143682], [39.869228, -77.681535], [41.4721, -72.02580999999998], [33.609790000000004, -84.39609], [29.681803, -95.443428], [39.25135, -112.439929], [27.298801, -82.49954100000002], [37.53551, -77.42517], [36.12999, -86.900803], [29.598628, -95.246843], [37.768519, -122.405095], [37.15291, -79.872614], [33.74895, -84.44169000000002], [25.883047, -80.210559], [34.067562, -117.526792], [34.139358, -118.471048], [34.807907, -117.098978], [27.944016, -82.335143], [44.824218, -117.815479], [34.111290000000004, -118.2472], [32.909599, -96.888996], [44.95285, -93.0958], [28.44072, -81.22979000000002], [40.538606, -74.306373], [30.65509, -87.91663], [42.97224, -85.9243], [34.304988, -79.296508], [39.122074, -121.568182], [37.564162, -122.039], [40.741917, -73.782614], [43.599382, -116.508926], [34.05721, -117.29796], [44.426256, -121.877935], [40.84738, -73.92541999999997], [32.765952, -96.674847], [45.38368, -122.57923999999998], [44.289777, -121.416268], [40.672715, -74.280854], [28.494962, -81.450363], [33.943886, -118.015464], [35.392778, -119.044722], [28.185119, -82.427757], [39.77708, -104.88049], [34.05138, -117.302027], [40.133364, -76.798978], [25.699027, -80.34114], [37.17202, -76.55045], [38.61053, -121.510291], [28.36385, -81.365658], [41.597448, -90.431141], [45.5356, -122.68583], [34.143501, -117.256404], [39.30156, -84.4852], [28.50993, -81.26899999999998], [36.72077700000001, -119.754698], [44.377933, -123.746788], [33.911732, -118.160104], [33.640778000000005, -84.39998100000003], [39.441636, -76.634777], [30.442738, -91.097527], [33.93298, -118.34918], [37.306766, -121.820028], [39.036533, -77.033842], [38.480967, -121.549741], [35.47192000000001, -106.30009], [35.39399, -90.269476], [40.971982, -74.080415], [34.498605, -117.776123], [34.1921, -118.47437], [44.49307, -93.14573], [25.683923, -80.416415], [40.709628, -73.992446], [38.281227, -121.45711], [41.742821, -72.73484499999998], [32.92455, -96.78246], [38.904273, -77.06900300000002], [38.59182, -77.31669000000002], [28.357505, -81.499578], [34.041208000000005, -118.064316], [37.44582800000001, -77.473621], [33.134615999999994, -117.319273], [36.790668, -119.784256], [33.826964000000004, -80.330492], [35.510462, -82.57883100000002], [25.811402, -80.193826], [39.214571, -76.673015], [40.445481, -74.395553], [34.150571, -117.323022], [33.638421, -117.343758], [38.671456, -90.361937], [38.010324, -122.542116], [38.017974, -122.266749], [38.135594, -77.509478], [42.32492, -83.08403], [40.97889, -72.112452], [34.240232, -117.429567], [25.84939, -80.20725], [38.753477, -77.571043], [32.9468, -96.822016], [34.136703000000004, -81.510162], [30.581241, -88.16970400000002], [41.87385, -87.80816999999998], [29.784761, -95.668698], [37.881334, -78.816898], [40.05040200000001, -75.55476800000002], [43.17657, -71.61108], [32.750646, -97.319588], [33.98808, -117.90122], [34.19559, -82.16493], [35.894809, -78.62261600000002], [35.183647, -89.817938], [40.747874, -74.163777], [32.912153, -96.877194], [33.719304, -84.396682], [34.31093, -117.473604], [25.93504, -80.215998], [43.92356, -121.351509], [32.82611, -117.16516], [47.604188, -122.327824], [35.313069, -78.403504], [44.966068, -93.268641], [36.863067, -76.44380600000002], [36.07961, -86.95357], [33.882019, -117.546883], [34.998412, -85.283309], [44.910961, -122.987362], [33.7435, -84.375658], [41.24988, -73.00385], [45.006155, -122.792098], [41.953593, -77.083634], [32.75971, -97.13479], [39.01664, -77.09895999999998], [35.099616999999995, -80.78012700000002], [38.214493, -122.137938], [39.820183, -75.430116], [44.775048, -93.288763], [44.563941, -123.23484], [40.740796, -111.904097], [40.09738, -74.14263000000003], [34.817195, -82.324155], [42.30183, -83.686943], [41.07699, -111.979383], [25.923052, -80.309213], [25.578347, -80.369697], [45.636187, -122.662407], [25.928291, -80.212378], [27.990763, -80.589561], [39.5133, -74.68608], [37.31793, -121.97919], [39.89268, -75.92005999999998], [33.008663, -96.708029], [39.788686, -86.13000500000004], [25.587346, -80.36134100000002], [25.811613, -80.313412], [34.721301000000004, -80.71503], [34.088608, -118.475191], [45.594645, -118.523579], [38.014379, -122.266985], [25.691215, -80.382077], [39.9318, -74.95464], [29.73281, -95.501301], [36.13328, -95.96726], [37.933297, -79.227595], [40.42573400000001, -80.31211400000002], [29.713065000000004, -95.279423], [45.55022, -122.19549], [37.052861, -122.072857], [38.892101, -77.166519], [44.871715, -93.144117], [33.979492, -117.97205], [33.91106, -118.074363], [34.439615, -119.772765], [36.759135, -76.27463900000002], [42.08328, -88.33539], [40.74818, -73.1796], [28.540396, -81.375842], [37.836942, -122.296049], [34.119826, -117.838639], [30.103563, -95.430645], [25.581001, -80.37191], [35.63855, -97.56719], [34.05196, -118.44944], [32.168467, -110.947675], [29.909862, -81.409826], [45.286013, -93.561494], [34.151692, -118.141613], [36.139326, -95.968316], [38.56179, -121.64726], [39.296604, -76.814635], [29.959135, -90.092922], [38.476147, -121.424954], [37.482511, -77.55094799999998], [42.855243, -82.567915], [47.275937, -122.158475], [33.999246, -118.147836], [33.87253, -117.66474], [37.962547, -122.328694], [30.453436, -81.651033], [40.689919, -73.56050400000002], [32.732777, -96.824127], [34.074157, -118.271893], [39.146243, -77.959278], [33.77664, -117.90086], [39.5114, -106.14452], [26.00598, -80.311779], [38.578763, -121.369512], [32.757632, -83.70926999999998], [28.122813, -81.639797], [43.677478, -116.354109], [37.587519, -120.892664], [34.003581, -118.152271], [32.868832, -80.02742099999998], [32.682851, -117.087783], [33.930405, -118.17388400000002], [40.802096, -73.440867], [32.660609, -96.871171], [38.25275300000001, -121.300774], [36.795879, -119.78532], [36.494903, -119.376719], [38.366289, -122.782052], [38.43346500000001, -122.722153], [34.307058000000005, -118.428555], [39.524806, -75.67304399999998], [33.078837, -80.084224], [28.522879, -81.488134], [33.106726, -117.312869], [45.37308400000001, -122.586402], [46.760762, -92.126809], [42.49641, -83.35094000000002], [43.63381500000001, -116.35703], [37.525562, -120.958412], [33.987497999999995, -118.137547], [39.210815, -94.639071], [25.74585, -80.22178000000002], [39.07338, -94.679864], [35.163649, -80.876024], [42.904887, -74.131127], [33.979502000000004, -118.280601], [38.25135, -85.74877], [44.78122800000001, -93.476024], [45.488473, -118.409668], [28.197516, -80.70886], [30.421284000000004, -91.12477], [43.123962, -77.632023], [43.193838, -77.637273], [45.378248, -122.384193], [29.73718, -95.53879], [32.907885, -96.7685], [38.678493, -121.225641], [34.138228000000005, -118.724527], [38.641672, -121.462142], [35.82059, -78.743895], [39.18109000000001, -76.73412900000002], [40.326301, -78.853605], [34.040313, -117.397497], [33.989148, -118.287093], [35.89125900000001, -84.20527299999998], [25.732841, -80.349118], [45.032409, -92.788529], [32.580478, -83.71993], [34.020212, -117.814998], [32.838433, -96.777656], [37.426715, -120.940383], [42.576152, -114.18197], [32.722899, -117.160107], [33.548129, -117.67302], [38.640943, -121.474381], [34.210477000000004, -117.085698], [25.939386, -80.29394], [34.041968, -118.161884], [30.516340000000003, -87.08733199999998], [29.937561, -95.468047], [28.567786, -81.290028], [45.78713, -95.079006], [30.73256, -86.35659], [33.802772, -118.120241], [33.632726, -117.725673], [36.45732, -78.26395], [40.77905, -111.948956], [44.87801, -93.2468], [25.69907000000001, -80.333946], [34.0481, -117.307], [41.258994, -74.15917900000002], [45.006618, -93.457128], [38.57526, -121.57196], [32.75951, -97.06135], [37.333542, -122.07273899999998], [25.76696, -80.238979], [45.06866, -93.26333], [29.51572800000001, -98.438779], [34.886752, -117.092467], [32.619062, -117.092102], [34.065191, -118.243401], [41.424368, -93.78023], [38.12111, -79.04743], [29.646893, -95.539089], [38.933035, -94.635782], [42.858631, -83.724849], [44.640147, -94.039583], [25.627037, -80.41460699999998], [25.563795, -80.403547], [32.864112, -96.683063], [25.809257, -80.31814], [33.873028000000005, -117.69028], [47.049415, -94.371626], [39.368101, -75.00734200000002], [35.36872800000001, -118.953926], [42.848873, -106.249692], [44.827212, -119.73734], [33.876453000000005, -118.102364], [42.130135, -124.348618], [37.055163, -121.57696599999998], [38.751308, -121.4883], [25.946072, -80.147246], [28.50963, -81.41458], [37.431483, -122.16891499999998], [40.384079, -111.830552], [38.96269, -76.86719000000002], [39.09619, -94.56775], [32.18654, -110.965694], [37.531174, -121.941171], [41.758189, -72.663938], [33.85345, -118.28046], [33.986538, -118.136276], [25.889312, -80.16566999999998], [42.27759, -122.811495], [33.761883000000005, -117.972343], [33.854107, -117.919957], [33.853, -118.28025], [39.368458, -123.317629], [36.967681, -119.524983], [34.362952, -118.50488500000002], [25.760893, -80.39527199999998], [40.845201, -73.911326], [44.966206, -93.225935], [35.27319, -81.16117], [28.49831, -81.42926], [34.061165, -118.24758], [36.130075, -86.787413], [41.726864, -87.810793], [25.742602, -80.400095], [43.186544, -77.608378], [30.301031, -97.685097], [40.901757, -74.137373], [33.15501, -84.87214200000003], [41.98549000000001, -87.6543], [25.782843, -80.232446], [33.531357, -86.712058], [25.810672, -80.181602], [33.38656, -111.653784], [34.595406, -82.633362], [30.405303000000004, -91.167674], [34.257309, -81.985586], [44.5908, -120.200938], [30.425851, -91.137736], [33.930170000000004, -117.88006], [32.99803, -96.801448], [38.922697, -77.21552], [40.129465, -75.418945], [39.85729, -75.36565999999998], [40.411804, -75.413732], [45.595175, -122.684002], [40.337699, -107.653143], [35.01522, -85.16367], [39.24708, -76.68481700000002], [39.073017, -121.087166], [39.07701, -77.13949000000002], [29.716088, -95.538889], [28.539186, -81.285685], [25.928291, -80.212378], [32.833896, -117.119268], [28.421363, -81.402794], [46.345492, -93.869858], [34.869586, -82.230745], [39.782685, -86.145333], [36.050563, -78.807426], [30.442226, -86.63661], [33.980058, -117.549022], [34.026465, -118.27223899999998], [32.90922, -96.73242], [40.80921, -73.19364], [33.981957, -118.39443], [35.165367, -78.70949399999998], [32.701132, -96.835973], [27.690126, -82.417902], [37.964957, -122.324876], [34.445217, -83.12559399999998], [33.677221, -78.975897], [34.156864, -118.158115], [35.091071, -77.036441], [37.80641, -121.990595], [35.750667, -78.767876], [41.78428, -77.30968], [25.749067, -80.212479], [36.204444, -121.136944], [35.7784, -78.64346], [28.332438, -81.63618699999998], [41.119134, -73.379972], [35.037449, -90.768066], [27.398413, -82.451311], [41.575998, -81.553303], [43.938928, -91.630235], [36.135772, -120.157278], [30.239655, -97.737564], [45.49788, -122.67285], [40.74092, -73.837315], [33.80295, -118.011029], [33.33512, -111.850404], [25.76089, -80.4169], [34.886606, -82.430065], [45.762734, -118.06365900000002], [25.941223, -80.306794], [31.080976, -87.53918], [45.55694, -122.56663], [38.728612, -76.834378], [34.377596000000004, -118.493462], [32.92392, -96.767578], [27.887625, -80.463039], [39.34196, -76.53213000000002], [40.502992, -74.40087], [40.14021500000001, -75.386946], [27.938567, -82.748199], [33.97258, -118.073998], [38.332091, -122.726746], [40.799264, -73.929865], [44.96548, -93.26765], [41.78104, -87.63061], [37.434661, -121.888973], [33.546885, -117.670925], [34.92839, -78.94046999999998], [34.065421, -117.313851], [25.883829, -80.208559], [30.342237, -95.481349], [36.333536, -119.393498], [34.035059000000004, -118.368239], [36.10792, -79.82794], [40.09131, -110.489898], [38.87305, -86.51956], [28.422445, -82.285972], [38.54471, -77.337255], [39.33473400000001, -76.49028100000002], [34.06158, -118.250055], [45.664962, -94.764043], [39.799437, -76.98491999999997], [33.856683000000004, -117.979225], [29.61434, -98.46704], [32.739758, -96.61186], [33.537348, -86.82811099999998], [42.921862, -123.276936], [33.89432, -84.26171], [28.538968, -81.31222199999998], [45.57953, -122.37063], [41.757147, -93.570426], [33.386552, -111.674941], [37.897562, -122.515995], [32.75314, -97.31959], [40.25532000000001, -75.724098], [45.263665, -111.326478], [35.81787199999999, -78.689332], [32.924469, -96.774518], [27.936842, -82.29381500000002], [37.567889, -77.479941], [36.10776, -86.72012], [26.545661, -81.91438000000002], [32.719205, -117.096115], [28.370418, -81.30740899999998], [34.07584, -117.62046], [34.007020000000004, -117.82629], [33.421789000000004, -86.697867], [40.74514, -81.15064], [38.408701, -82.362201], [41.037482, -73.756113], [33.838887, -84.368944], [38.91017, -94.69538], [34.704293, -81.241649], [47.942352, -116.856565], [38.473321, -123.021881], [36.435228, -121.339986], [34.225999, -118.38775], [42.160087, -87.874413], [42.50112, -83.28497], [35.547024, -82.93262299999998], [39.245178, -121.06005], [40.233431, -74.541732], [38.98211, -84.64041], [33.877320000000005, -118.135238], [25.906588, -80.209586], [34.630697, -112.375406], [44.42534000000001, -92.87814], [36.062911, -80.231577], [38.680107, -121.955412], [42.15399, -87.91548], [35.843559, -78.6435], [30.322668, -97.706587], [28.34804, -81.313677], [29.917546999999995, -81.412663], [34.020174, -118.15621000000002], [37.992105, -122.076763], [44.094647, -123.755868], [39.933037, -75.145209], [34.66458, -79.00763], [37.665778, -122.39646], [32.593486, -97.319404], [45.539456, -122.418304], [38.74930300000001, -77.184998], [25.670562, -80.422383], [40.644712, -74.017673], [32.770804, -117.11243799999998], [29.750944, -95.357497], [33.903479, -118.199322], [33.118811, -80.64126800000003], [34.41931, -118.58112], [35.22439, -80.89652], [44.046605, -91.673753], [25.687942, -80.334419], [33.99773, -117.93485], [38.742196, -121.775798], [39.265962, -76.561155], [29.909540000000003, -90.1654], [41.931263, -93.57003], [40.753837, -73.74438599999998], [27.936367, -82.310249], [44.948621, -92.937677], [44.948529, -92.955159], [29.992386, -81.465457], [40.047068, -75.00040600000001], [38.255485, -121.447939], [36.29829, -119.260817], [36.951765, -120.053663], [38.788339, -90.520674], [29.856176, -95.518397], [33.9802, -81.027055], [38.461149, -77.408429], [42.96441, -78.76756], [39.00212, -76.98183], [44.078027, -95.743274], [37.55220300000001, -120.540292], [42.48708, -83.11493], [38.195464, -121.562876], [39.407578, -77.43436], [25.889347, -80.186409], [38.101566, -121.201078], [38.193335, -85.731812], [25.89573, -80.18719200000002], [43.66891, -93.01755], [45.036218, -120.724268], [38.185805, -122.135857], [30.502971, -87.168048], [28.07219000000001, -80.705], [35.3374, -119.03948], [40.07715, -76.33961], [34.035857, -117.322546], [41.17325, -112.014618], [32.784014, -96.812647], [33.901787, -117.474726], [30.477378, -81.64471], [34.106251, -117.534474], [41.244272, -111.967606], [33.588219, -117.517002], [41.51880900000001, -73.985303], [30.277839, -81.618208], [34.171705, -118.158036], [37.503818, -121.962855], [35.268171, -113.962163], [41.41697, -81.52738000000002], [42.49079, -83.03765], [30.39336, -81.757526], [26.058378, -80.16255799999998], [32.87535, -96.7701], [37.14435, -121.98468], [35.561363, -78.754661], [34.011568, -118.280732], [30.053141, -95.246822], [30.463222, -87.263098], [35.209392, -118.752507], [25.846847, -80.24184100000002], [38.595131, -121.44434], [36.097073, -80.011498], [39.009543, -121.10531], [46.898874, -110.689652], [43.490057, -124.220324], [32.88421, -96.69716], [36.177989, -86.80095], [32.63948, -117.10009], [36.992985, -120.096692], [25.577061, -80.371183], [39.606268, -77.76110600000001], [35.19638, -80.96879], [28.021775, -82.710802], [37.71079, -122.3954], [26.548103, -81.57236999999998], [34.148676, -118.047888], [44.95176, -93.061879], [33.831808, -81.34879000000002], [25.893601, -80.261645], [25.869116, -80.21090699999998], [36.291705, -121.858944], [41.573996, -87.458692], [45.00207, -93.235484], [35.04711, -120.493974], [41.698769, -72.644165], [33.859948, -118.309061], [27.46803, -82.075659], [34.15383, -118.34091], [38.785871, -90.502263], [34.832762, -82.349306], [39.422997, -76.63811700000002], [38.84261, -76.86494], [24.599692, -81.65101800000002], [39.77308, -104.83396], [29.462857, -98.622062], [32.442015999999995, -93.781185], [40.198353, -75.162766], [25.83107900000001, -80.242076], [42.375489, -83.53430999999998], [33.751372, -117.831905], [45.54873, -122.67859], [37.75068, -122.392078], [38.639765, -122.771948], [30.419763, -91.099076], [34.019996, -117.544472], [34.185654, -79.76119], [37.773497, -122.440733], [34.273340999999995, -118.628729], [30.690361, -86.032336], [38.81913, -76.91499], [42.27566, -84.38228000000002], [34.165138, -118.487917], [25.883893, -80.243208], [33.912144, -118.177517], [43.648318, -116.39481], [33.939351, -117.22211], [33.746851, -117.84298], [44.260536, -119.014173], [40.698691, -73.513737], [38.510338, -121.460052], [27.965312, -82.439728], [45.25376, -93.02307], [35.006214, -85.20801800000002], [30.190395, -81.671239], [43.746575, -70.539815], [32.123033, -103.114245], [28.58225, -81.37522], [26.543108, -80.07182399999998], [40.047343, -78.549982], [35.866613, -80.030311], [38.087636, -119.182101], [33.03230300000001, -117.278944], [28.451602, -81.477678], [41.45295, -81.72129], [36.844411, -76.196252], [27.96506500000001, -82.449613], [42.07837, -88.02927], [28.450012, -81.483435], [38.13156, -79.030934], [28.188604, -82.456854], [29.8119, -95.43372], [35.148053000000004, -80.829296], [35.600008, -119.209861], [47.4678, -122.80474], [34.062649, -118.261331], [40.288935, -74.089846], [43.414125, -84.24046], [25.701496, -80.414688], [29.632321, -95.419662], [33.878108000000005, -78.60951999999997], [33.48425, -112.11319], [42.38084, -83.03227], [41.696006, -92.173364], [29.97018, -90.105114], [27.53516, -82.510017], [33.984953999999995, -118.072392], [27.792157, -82.334038], [33.964136, -84.095159], [33.360023, -80.180171], [40.17103, -75.07122], [40.07416, -75.15839], [44.0978, -123.15806], [37.74219, -121.52587], [37.886385, -120.999881], [26.651684000000003, -81.79916700000003], [39.94027, -75.010367], [33.76927, -117.91645], [30.44848, -91.24951], [35.11047, -109.59232], [33.991005, -118.368918], [38.964039, -76.904985], [35.851795, -78.633018], [28.540195, -81.38284499999997], [37.910905, -122.317365], [37.768667, -122.153924], [25.842534, -80.225312], [33.715821000000005, -117.844331], [37.77304, -122.40657], [25.761814, -80.338151], [32.286488, -110.980032], [34.121646000000005, -117.762783], [32.99528, -96.96473], [37.692381, -120.921596], [41.330341, -72.878419], [33.854267, -117.803981], [28.422651, -81.404776], [35.078197, -89.962416], [39.61417, -83.5963], [25.573963, -80.379476], [43.041423, -83.727561], [34.095381, -117.819556], [32.88428, -117.22787], [39.37318, -76.5678], [30.348982, -97.546521], [25.679357, -80.317215], [33.759933000000004, -78.936837], [28.552519, -81.344663], [42.654031, -105.200346], [39.28697, -84.45675], [25.80803, -80.31314499999998], [37.671652, -122.1168], [46.607791, -112.088109], [30.473624, -97.671745], [39.817773, -120.660541], [32.726208, -97.320376], [35.63154799999999, -120.686499], [40.7741, -111.9491], [43.148566, -77.593879], [36.57274, -119.62564], [30.341061, -97.557653], [39.312597, -120.548566], [32.569896, -93.786362], [39.043437, -94.660446], [45.220294, -93.429271], [40.006654, -75.1936], [36.06165, -79.38892], [34.15205, -118.12751000000002], [34.082121, -118.29563600000002], [39.09757000000001, -84.51666], [39.837393, -76.308097], [36.08302, -86.727355], [39.84419000000001, -86.04244], [25.903347, -80.210269], [33.988238, -118.065717], [33.913929, -118.183769], [40.71993300000001, -74.233078], [40.729367, -73.839947], [26.492758, -81.806416], [36.089937, -95.992481], [25.67081, -80.362747], [41.565398, -93.864217], [32.76718, -117.12888999999998], [25.882665, -80.361159], [47.1755, -122.46712], [44.89004, -93.281661], [42.98098, -78.87234000000002], [33.772224, -84.390387], [38.81577100000001, -77.475422], [45.880504, -108.670588], [33.24775, -111.82407], [35.350337, -119.025647], [33.49629, -82.31039], [33.414351, -112.082029], [35.354593, -120.78456], [43.080707, -121.82508500000002], [41.71319, -87.61941999999998], [37.6097, -77.4473], [29.766790000000004, -95.36639], [44.966624, -93.276596], [41.47581, -73.410911], [42.53192, -73.78443], [38.561068, -121.482921], [47.79158, -122.20754], [36.844149, -76.196574], [47.809039, -122.301953], [43.59903900000001, -116.520534], [44.983566, -93.287656], [40.8362, -74.43590999999998], [47.673143, -95.003145], [42.370605, -123.50426000000002], [40.8326, -73.93189], [34.73099000000001, -81.020771], [40.12925900000001, -75.147315], [44.10734, -117.05045], [30.250092, -81.542061], [42.27953, -87.86878], [44.13216, -123.05044], [40.18971, -122.232586], [41.2489, -73.07969], [30.416842, -91.095035], [37.438288, -122.246936], [33.70185, -117.85854], [33.47473, -111.686824], [32.627353, -80.883894], [34.067366, -117.563705], [25.801352, -80.20574], [38.935557, -94.612119], [36.182181, -119.833142], [34.31172, -118.48701], [32.793534, -96.726218], [41.770312, -72.681893], [42.42872, -87.91371], [32.91901, -97.01535], [32.784482000000004, -96.764826], [32.81328, -96.64808], [25.89008, -80.1905], [33.88394, -117.52528999999998], [38.344354, -85.793719], [40.68983400000001, -73.562775], [40.068082, -75.147515], [45.506467, -122.71446], [40.737079, -73.931089], [29.50436, -98.39891], [34.06508, -117.258802], [35.259714, -118.913191], [38.980229, -121.108907], [38.8131, -120.029668], [34.956596000000005, -78.895907], [36.203038, -120.211447], [40.78128, -73.9441], [33.492638, -112.203242], [36.95971, -76.410791], [33.841534, -81.23151899999998], [42.69007, -121.853259], [35.498145, -93.666096], [29.68089, -95.37319], [32.79347, -96.72633], [38.381794, -81.600454], [34.818512, -82.276886], [38.832408, -76.940402], [34.071694, -118.132452], [39.409196, -77.387057], [39.574026, -123.438362], [32.22155, -110.877476], [40.11671, -75.069266], [45.244765, -122.584305], [42.861002, -83.739949], [26.556476, -81.90529699999998], [42.37994000000001, -83.14619], [41.17228400000001, -112.015502], [34.854348, -81.966144], [40.437444, -74.43086], [35.893541, -78.560478], [45.957283, -123.579132], [41.03539, -81.56558000000003], [37.549907, -122.025421], [38.831019, -122.58638700000002], [37.925432, -122.322631], [37.543205, -77.427622], [25.731983, -80.383184], [25.715049, -80.39828], [29.66346, -95.38519], [38.6316, -121.392209], [28.717484, -81.37718199999998], [34.067838, -117.403173], [32.79314, -97.24101], [37.302662, -120.541035], [42.407348, -123.43808], [38.24136, -77.557838], [40.99318, -73.67809], [41.75974, -87.90618], [32.720021, -117.081266], [37.152971, -93.415453], [25.70093, -80.334023], [35.211374, -80.692926], [43.12804600000001, -77.488097], [33.85951, -118.29054], [30.205511, -97.716531], [41.10552, -73.42583], [29.944974, -90.089961], [35.53700999999999, -97.46066], [33.309023, -80.165726], [35.87526, -78.6232], [34.781451000000004, -92.268101], [41.77461, -72.57781], [30.33588, -81.66999200000002], [28.552989, -81.39331999999997], [43.63969, -95.94991], [32.896826000000004, -117.188972], [43.012574, -88.227874], [30.4339, -91.057488], [37.04713, -121.2823], [39.046584, -76.987004], [25.96493, -80.17831], [45.507012, -122.670625], [37.49527, -122.36946], [35.223329, -120.691762], [32.651635, -117.067962], [41.73589000000001, -74.06577], [45.584075, -122.67923799999998], [40.40186, -104.99326], [33.988282, -117.902313], [38.57657, -121.46566], [38.813118, -77.629432], [32.170331, -111.074746], [39.113537, -121.545014], [34.040812, -81.09123199999998], [25.899858, -80.324248], [38.801505, -77.325541], [37.316435, -80.05080699999998], [33.916758, -118.285871], [43.144424, -90.354118], [41.519361, -74.018315], [35.057448, -80.95768299999997], [37.82023, -78.843823], [33.978367, -80.92938000000002], [37.416483, -121.913233], [34.819724, -82.26905500000002], [40.763105, -77.614362], [30.423652, -91.146525], [43.164001, -77.55161700000002], [48.396261, -114.284468], [39.41229600000001, -105.758067], [46.301641, -94.267719], [33.962261, -118.247013], [37.527788, -77.356941], [25.78613, -80.213043], [42.857068, -123.247355], [45.180684, -93.39206], [40.779544, -98.541215], [35.876444, -78.581546], [34.614154, -81.020425], [28.492034000000004, -81.458802], [38.85702, -104.83363], [42.288233, -88.096921], [40.02308, -75.0348], [42.975201, -85.649664], [36.791356, -119.784632], [28.792291, -81.211241], [26.399773, -80.090411], [28.575209, -81.451796], [42.378658, -84.42911], [25.726054, -80.41547299999998], [32.686768, -117.113564], [26.040118, -80.163577], [36.970774, -121.825065], [40.843599, -73.894592], [36.604991, -119.583926], [36.650618, -76.84711999999998], [33.927504, -118.009183], [41.79963, -88.05669], [26.002855, -80.167179], [40.7506, -74.11613], [42.26913, -88.03372], [34.461525, -120.083323], [39.22726, -84.74085], [42.240517, -87.96936600000002], [37.652294, -77.500227], [33.680978, -117.761568], [30.34282, -91.02681], [35.797504, -80.92182700000002], [34.067445, -117.580526], [44.96998, -93.32807], [37.659555, -77.618297], [33.967139, -118.229624], [42.912626, -85.610377], [38.96555, -94.42918], [37.825015, -122.308999], [35.742107, -109.61188500000002], [46.876012, -97.268604], [27.955518, -82.472131], [40.16701, -75.29019], [39.16209, -84.50769], [33.68901, -117.91937], [33.30523, -111.96717], [37.7085, -122.163602], [36.488653, -119.941273], [30.420995, -91.140545], [43.16814, -124.26803], [40.00613, -75.78584000000002], [33.1317, -117.32764], [30.24583, -97.680183], [40.194294, -76.68539799999998], [34.081133, -117.488775], [25.706561, -80.285439], [42.996121, -77.374509], [38.042151, -122.53609099999998], [42.405413, -87.93638299999998], [38.67142, -76.876], [28.602685, -81.722065], [45.94181, -122.85487], [41.052443, -75.96324200000002], [33.90238, -84.24191], [34.127751, -117.91803], [43.17777, -77.619822], [41.95863, -87.87878], [37.359312, -120.850302], [40.74006, -73.78995], [35.217705, -119.00322], [28.409087, -81.404754], [38.16241, -121.61336], [40.99318, -73.806586], [33.63747, -84.49279], [34.87068, -82.42921899999997], [25.743534, -80.413228], [33.125021000000004, -117.127493], [32.822095000000004, -96.786299], [39.765342, -84.137793], [37.774618, -122.231996], [46.668248, -92.532516], [32.67776, -97.38663], [25.822605, -80.24887], [28.582944, -81.218029], [35.27299, -80.837], [34.145263, -117.284159], [40.999302, -78.327178], [26.323532, -80.116753], [47.518445, -122.198422], [40.718236, -73.59215999999998], [39.640393, -75.652392], [27.293887, -82.53050400000002], [25.627981, -80.354568], [33.533893, -117.549761], [30.483864, -91.11807], [37.644513, -120.61311299999998], [42.23528, -87.856224], [41.945547, -77.692652], [37.618464, -122.150663], [27.436840000000004, -82.44582], [28.604375, -81.538671], [38.07074, -122.18517], [25.886368, -80.243266], [45.968014, -92.957881], [34.642101000000004, -118.178692], [30.73834, -85.38562399999998], [30.43671, -85.18585300000002], [44.135413, -122.546581], [32.7424, -96.81808], [25.77606, -80.199841], [35.383051, -119.044712], [37.7009, -121.79503], [44.046996, -93.249284], [30.460826, -91.150234], [37.625296, -118.924235], [34.257226, -117.215305], [34.606973, -82.371033], [43.103788, -75.264038], [35.43737700000001, -80.65249], [33.5531, -112.117], [36.695242, -120.060617], [35.96427, -78.549853], [40.00603, -82.87291], [36.869819, -121.770097], [38.96421, -77.17608], [40.00975, -75.187221], [34.514605, -81.991047], [41.14335, -73.421672], [33.873926000000004, -118.224887], [35.251725, -80.893975], [34.05007, -81.068389], [33.924977, -118.280982], [37.071479, -79.897767], [45.5075, -122.72064], [35.185786, -82.159227], [29.78497, -95.59269], [33.010514, -117.26462], [37.551081, -120.91904], [35.213642, -80.923479], [29.844144, -95.391723], [41.921277, -72.611773], [33.67287, -112.024766], [33.294684000000004, -117.243136], [27.298786, -82.493527], [42.75616, -84.50774], [28.552392, -81.448734], [26.331218, -81.75456], [33.329461, -112.623199], [40.144847, -75.92429200000002], [34.001051000000004, -81.29083299999998], [45.939529, -93.10372], [34.146038, -118.47078], [38.602126, -109.575222], [34.062869, -118.163053], [40.430063, -79.87445699999998], [25.624829, -80.414419], [38.901912, -77.019904], [43.906588, -122.745324], [34.111125, -118.180351], [33.91357, -118.26528], [34.068811, -118.06696399999998], [36.085334, -86.804393], [43.524581, -119.820553], [38.44219, -105.23489], [32.272079999999995, -110.9611], [41.270195, -95.792917], [47.43716, -122.21851], [34.191979, -118.474161], [26.474829, -81.816677], [32.880412, -96.741491], [25.942242, -80.18879], [33.87678, -118.17195], [35.026658000000005, -90.81648], [44.861823, -93.270825], [39.451957, -77.40010799999997], [25.76088, -80.418865], [30.416128000000004, -91.1562], [38.53693300000001, -121.473658], [40.141829, -122.43633], [47.565847, -122.353271], [35.047786, -118.172202], [44.80408, -93.39804], [28.217048, -82.692619], [34.14458, -117.319423], [34.064239, -117.297611], [34.02508, -117.72724], [40.6558, -73.67748], [40.430862, -105.797033], [34.58206, -79.140394], [40.319756, -122.80265], [33.968070000000004, -117.84909], [47.394794, -115.431472], [29.7247, -95.49035], [44.885019, -93.005372], [25.656445, -80.41259000000002], [41.207491, -111.979203], [26.624959000000004, -81.73351600000002], [44.728183, -93.131039], [37.802148, -122.280319], [34.102833000000004, -118.19508700000002], [43.097101, -75.19554699999998], [41.054502, -73.774641], [33.49799, -112.419823], [38.00343, -122.04281], [25.947307, -80.15153199999997], [35.607114, -77.438028], [35.352468, -119.021391], [43.21664000000001, -70.89616], [34.045812, -81.078586], [36.753441, -119.781972], [34.13925, -118.71423], [45.538855, -118.45816200000002], [32.758229, -117.203481], [26.24765, -80.16676], [35.426219, -118.818479], [32.571448, -83.23123000000002], [42.706617, -73.830924], [37.383975, -120.613453], [45.10461, -93.04988], [40.703939, -73.817165], [38.20411, -122.15492], [34.087234, -118.234166], [39.529076, -76.186462], [40.620825, -75.497055], [33.920190000000005, -84.31481], [34.132364, -117.50042], [45.59486, -122.68389], [36.898075, -121.776548], [38.540702, -121.348343], [30.38716, -89.73293000000002], [25.698611, -80.38217900000002], [35.332213, -119.00308], [45.78015, -122.6002], [38.27433900000001, -104.524478], [41.38747, -73.59942], [25.95014, -80.18196], [33.619818, -84.430868], [38.456298, -121.359711], [33.97184, -118.37779], [44.96964000000001, -93.30479], [42.36544, -83.1334], [28.451938, -81.400468], [35.2416, -80.98374], [43.584641, -93.357664], [39.3886, -76.72674], [34.27154, -79.69913000000003], [33.928758, -84.48858299999998], [37.7376, -77.11995999999998], [33.976186, -118.386695], [33.34058, -86.78025], [27.936367, -82.310249], [45.57755, -92.9924], [34.011708, -118.16178899999998], [40.350819, -76.726874], [40.92156, -111.90038], [39.85497, -84.33051999999998], [35.75944000000001, -119.760067], [33.893023, -118.10487], [43.29976, -124.21225], [35.00156, -80.97398000000003], [43.279341, -93.350197], [34.028154, -118.147102], [37.71096, -122.12671], [33.944631, -117.672339], [25.972136, -80.229777], [45.131864, -121.604989], [36.858842, -121.629672], [28.447931, -81.470943], [35.803968, -78.698479], [42.953951, -115.148548], [34.036111, -118.092852], [33.644393, -117.915773], [28.485668, -81.41736], [30.368341, -97.718379], [29.800031, -95.513871], [35.47879000000001, -82.55507800000002], [33.778313, -117.86975], [32.7166, -116.50011], [33.239349, -117.412057], [35.90199000000001, -78.79065], [27.94479, -82.49327], [25.729677, -80.3831], [39.253286, -83.90395500000002], [25.882616, -80.249352], [33.3857, -111.93489], [30.094311, -97.693913], [27.777396000000003, -82.660349], [25.942421, -80.312023], [45.505734, -122.756022], [33.920685, -117.431756], [31.88853, -106.44127], [33.631769, -117.724528], [45.16467, -122.5993], [34.295921, -80.339523], [42.444272, -71.340032], [45.517237, -122.66665], [45.817763, -108.401703], [42.17587, -88.13577], [33.952802, -118.170714], [33.929762, -118.326409], [38.87602800000001, -77.278741], [37.912775, -122.06692], [35.397489, -118.994016], [34.087196, -117.665859], [27.893883, -82.33628], [34.491519, -79.35645600000002], [47.2345, -122.42775], [38.315022, -109.411951], [39.098249, -77.038825], [30.448174, -91.190353], [34.074690000000004, -117.750163], [40.6449, -75.42688000000003], [33.76977, -118.28061], [34.016748, -117.095844], [33.825193, -118.287246], [42.16516, -87.87399], [37.770949, -122.405755], [38.788427, -77.052565], [29.69047, -95.32889], [39.98046, -75.104416], [25.733059, -80.317751], [32.6599, -96.730696], [41.339727, -73.76686099999998], [25.630294, -80.41471800000002], [33.896766, -117.484063], [33.807263, -117.90653600000002], [45.600018, -118.503381], [46.60802, -93.41267], [38.515309, -78.788093], [39.26035, -76.70279000000002], [25.923372, -80.27663199999998], [32.857071999999995, -96.7702], [36.828172, -76.32006700000002], [42.38084, -83.03227], [28.540192, -81.309043], [45.693925, -94.875768], [40.73217, -73.91944000000002], [34.093877, -80.85576], [32.871854, -96.86791], [34.050908, -80.939645], [43.06326, -76.15896], [36.803357, -119.808555], [45.05843, -123.647882], [30.70433400000001, -86.12258100000004], [36.829973, -76.19582], [34.011388000000004, -84.559297], [26.426573, -80.089866], [41.91453, -87.94024], [40.434703000000006, -79.86831600000002], [33.842536, -117.830289], [38.620301, -112.609852], [38.343606, -121.33589], [38.761235, -120.571185], [29.715783, -95.277631], [47.182836, -113.484586], [38.655824, -121.30928], [41.77844, -87.74229], [45.716117, -120.237239], [27.298807, -80.41520899999998], [39.082343, -94.54085], [36.808331, -119.8338], [39.655247, -76.65610600000002], [29.975498, -90.06330200000002], [42.280135, -71.118995], [41.496569, -94.732393], [26.398198, -81.808188], [33.716472, -84.257594], [39.83049000000001, -105.00511000000002], [28.20128900000001, -80.671145], [39.94326, -83.01203000000002], [26.087239, -80.207802], [47.539246, -122.334791], [43.1229, -77.64856999999998], [33.601852, -117.08366399999998], [38.644591, -121.52679], [39.687498, -75.58371600000002], [39.587098, -119.827204], [34.094747, -117.987977], [46.297749, -94.269148], [30.281536, -97.611933], [35.066302, -118.177961], [40.349598, -112.07381], [37.028743, -80.728794], [40.682549, -73.647304], [34.07201, -118.1081], [30.362959000000004, -97.668369], [39.09889, -84.52118], [38.89914, -111.65987], [48.109825, -101.295667], [34.75015, -86.69736999999998], [35.0878, -80.84506999999998], [38.624494, -121.517059], [35.177653, -106.583224], [34.883619, -117.061375], [40.281759, -75.297063], [37.484697, -122.184823], [34.12122, -117.195433], [29.587189, -82.48976800000001], [36.13345, -95.85113], [45.042011, -93.101367], [37.721847, -121.513112], [45.41767, -122.4488], [34.080875, -118.22543], [35.763454, -78.636934], [30.257240000000003, -81.42936], [33.494816, -112.20423], [38.881925, -111.57988799999998], [25.926033, -80.151522], [36.901495, -76.23614599999998], [39.680739, -86.339567], [39.937583, -120.90873899999998], [43.16728, -77.61688000000002], [33.497833, -81.280439], [27.930833000000003, -82.57861], [29.950073, -90.084883], [37.430118, -77.719507], [29.81157, -95.34702], [36.52920200000001, -87.363845], [26.302202, -80.285865], [27.78732, -82.67938000000002], [42.073291, -122.605952], [36.755012, -119.77727], [33.802636, -118.125354], [34.009627, -81.153076], [34.149246000000005, -118.46924], [38.74361, -90.41607], [37.027391, -120.345226], [46.041067, -92.921758], [40.75673, -111.91228], [44.858799, -93.329057], [35.321221, -112.897571], [34.063721, -117.267261], [40.876455, -73.924272], [41.575624, -112.07151299999998], [30.25036, -81.53083000000002], [37.23044, -93.273688], [37.132541, -122.104244], [35.144876000000004, -85.280812], [35.383471, -119.198784], [42.83371, -86.09625], [25.899251, -80.190506], [37.507232, -120.930976], [41.115292, -74.108136], [38.618316, -121.328552], [25.767491, -80.368853], [30.02176, -90.15408], [33.978612, -118.127715], [41.176945, -111.97146], [39.917466, -76.913457], [37.554292, -77.48382], [33.423038, -117.608181], [37.826627, -122.267326], [25.815283, -80.281174], [32.255483, -107.880538], [40.687995, -74.27043], [26.092947, -80.22498900000002], [45.07311, -122.95955], [34.067671999999995, -117.524099], [37.172349, -121.758877], [37.491958, -77.43236800000003], [36.749645, -119.825011], [33.879014, -118.103832], [42.699211, -73.708444], [32.287247, -110.801516], [33.742133, -78.953141], [38.714429, -121.427732], [39.6822, -79.060313], [40.129884, -75.166969], [27.41241500000001, -82.45559200000002], [44.890704, -93.304473], [37.927971, -122.322877], [30.360127, -89.418121], [29.77645, -95.39705], [40.303419, -75.899788], [38.941673, -94.819811], [35.078558, -89.921973], [34.497462, -118.219569], [27.44627100000001, -82.502024], [38.526724, -121.952759], [41.51245, -93.57847], [28.202465000000004, -81.429538], [27.774949, -82.63556899999998], [32.277349, -90.182851], [36.750308, -119.49298], [25.700683, -80.379687], [33.973355, -81.134599], [45.785582, -123.958467], [30.41067, -97.685075], [25.930062, -80.293485], [30.332979, -81.656008], [37.540366, -121.924662], [32.70035, -96.755068], [34.080335, -118.472977], [45.01003, -93.13603], [34.121955, -81.21070300000002], [32.854462, -96.885694], [38.89761, -94.67635], [34.8767, -82.016147], [45.46486, -94.13083], [38.952958, -77.385436], [39.0611, -77.15590999999998], [40.981696, -75.137311], [32.908516, -80.026607], [36.291178, -86.721758], [41.76744, -72.05749], [43.133161, -77.650936], [33.8919, -118.10477], [44.04285, -116.9692], [33.681020000000004, -117.85278], [33.123027, -80.060898], [30.422998, -91.139091], [34.177113, -118.308229], [29.898566, -90.079465], [37.40328, -122.04709], [32.20667, -110.8581], [40.8046, -73.91228000000002], [33.854236, -117.941825], [25.654291, -80.415635], [42.95897, -87.88209], [32.283638, -110.978113], [38.858513, -77.070777], [34.0048, -84.5646], [44.462607, -118.689947], [33.849112, -81.085737], [32.874631, -96.993047], [44.96705, -92.95853], [34.020978, -117.545696], [29.652281, -95.252033], [30.392966, -91.160552], [42.01177, -87.74825], [33.948133, -118.101127], [38.57233, -121.46781], [33.553092, -112.116987], [30.595238, -84.398425], [36.861919, -76.58051], [34.442292, -119.776058], [44.75077, -92.81828], [38.962787, -121.606732], [45.147637, -123.198617], [36.099716, -119.56753799999998], [45.489527, -122.82566], [34.034701, -118.064699], [25.94053, -80.205015], [34.001054, -118.409865], [34.189791, -79.801917], [44.87524000000001, -93.07141], [33.194586, -117.141561], [39.800559, -84.194186], [40.293291, -75.138362], [34.130111, -117.304319], [29.059475, -95.454168], [36.87226, -76.19596], [36.044887, -86.66386], [32.141335999999995, -110.961604], [43.664827, -116.47124], [41.122802, -78.606759], [37.89523, -121.711728], [27.950712, -82.519869], [44.392157, -123.061112], [35.782713, -78.643274], [40.71487, -73.829122], [40.25721, -75.36107], [33.956506, -117.861328], [33.546871, -117.672824], [41.832334, -122.590945], [36.715237, -76.238701], [43.497149, -124.218694], [35.657044, -81.960551], [35.547798, -118.615447], [34.253402, -119.068769], [29.870956, -95.292843], [40.36805, -79.81716999999998], [33.913266, -118.132238], [38.938947, -94.548329], [45.5284, -122.65357], [33.94851, -117.301495], [34.265772, -118.454077], [47.23432, -121.17089], [41.59891500000001, -93.503219], [29.061506, -82.275207], [43.17237, -76.11476], [36.481429, -119.56856], [41.10642, -73.41585699999997], [36.137883, -120.11165], [39.905949, -74.975662], [35.848119, -78.71046700000002], [36.313322, -86.830433], [35.294984, -119.252482], [42.41338, -79.30481], [34.068115, -118.028752], [40.898913, -74.488924], [38.307266, -77.502003], [37.62880300000001, -77.458538], [40.444205, -80.146757], [29.901129, -82.13657099999998], [44.870217, -93.396868], [46.165842, -123.65542], [43.045302, -91.177436], [39.402154, -78.026887], [33.77414, -118.05064], [33.611544, -111.959582], [26.00514, -80.16685], [33.98765, -81.24318000000002], [39.95983, -75.1774], [25.949326, -80.148812], [40.203391, -78.93388399999998], [33.862319, -118.199297], [25.97085, -80.311491], [35.86638, -78.717182], [34.222433, -119.137654], [25.714343, -80.41640100000002], [39.1475, -84.53904], [38.016074, -122.267822], [29.982914, -81.775501], [36.828668, -121.628577], [44.954112, -93.078714], [40.07651, -75.540357], [46.29614, -92.82164], [39.47701, -76.84444], [29.938626, -95.364871], [40.672767, -122.322285], [34.030946, -117.133788], [36.1392, -86.77835999999998], [30.022178000000004, -95.380559], [34.14027, -118.01672], [47.15524, -96.975063], [33.865484, -118.197304], [37.07366500000001, -121.989045], [29.590436, -98.60164], [43.607351, -124.180513], [38.841514, -77.21942], [34.01945300000001, -117.339659], [26.604594, -80.173489], [37.24947, -76.722438], [35.35316500000001, -119.053197], [43.86951, -121.40266], [34.48866, -118.28672], [34.196396, -119.079711], [37.668546, -77.58848499999998], [29.729503, -95.410585], [32.892988, -117.240976], [37.702652, -122.112659], [38.16898, -85.60515], [34.019149, -118.151362], [36.215838, -95.958239], [38.705015, -120.855283], [33.968971, -118.372467], [33.773549, -117.871531], [35.152372, -89.886431], [33.42083, -112.35781], [41.248538, -73.006167], [25.732828, -80.349738], [37.985849, -78.272863], [36.175487, -94.190661], [39.78395, -105.02839], [37.47709, -121.93293], [33.945587, -117.555093], [32.807445, -96.660163], [28.536912, -81.557039], [33.889621000000005, -118.192954], [30.648367, -87.06362299999998], [47.953587, -122.199969], [34.124853, -80.87711999999998], [37.70474, -122.115668], [39.271563, -76.652137], [38.87932, -77.25435], [43.045663, -83.676281], [40.494242, -77.104614], [33.941859, -118.296218], [37.784809, -121.306773], [28.374829, -80.806696], [34.733489, -92.323699], [28.058642, -82.454613], [42.761185, -73.596699], [38.178445, -121.115115], [33.979362, -117.338941], [29.769607, -95.416389], [25.769703, -80.335727], [37.743949, -122.405578], [43.034763, -75.29608], [34.09483, -118.310839], [37.552072, -77.47760500000003], [35.80370300000001, -78.699907], [34.059483, -118.001377], [47.80529, -116.91228999999998], [34.120486, -117.907589], [43.282839, -115.886417], [41.060863, -111.91065], [36.624674, -119.324879], [47.46199, -122.26784], [34.222259, -118.368526], [27.296619, -82.51409100000002], [38.545564, -77.345412], [28.599308, -81.534407], [29.33556, -82.15154799999998], [38.140248, -122.480978], [36.435894, -120.394081], [45.636625, -94.175866], [33.68516, -85.25665], [42.792173, -78.816307], [39.72481, -105.01563], [38.878448, -77.039749], [34.201114000000004, -118.473611], [25.716156, -80.43126], [39.018183, -76.922289], [41.141191, -73.28399], [44.074627, -123.860539], [39.493786, -79.141591], [33.52791, -112.04371], [38.952242, -122.727762], [28.485299, -81.41736800000002], [42.497836, -83.535885], [45.551832, -122.564022], [41.110418, -73.50111], [37.148605, -76.534184], [29.92288, -95.30399], [40.10016, -75.303324], [33.01129, -111.62253], [33.689267, -117.919301], [38.892599, -77.100988], [33.85075, -117.83745], [38.990274, -104.814666], [34.594882, -80.91983], [38.61015, -121.347501], [39.202969, -121.011126], [30.57891, -88.174735], [28.551744, -81.505862], [38.7111, -87.101501], [42.385235, -83.301152], [33.847768, -117.85568], [33.774587, -118.007597], [42.944308, -76.550957], [41.89739, -87.65938], [39.26643, -84.35625999999998], [39.953939, -122.200385], [33.54215, -112.190183], [34.006879999999995, -117.82714], [34.199839000000004, -118.856772], [34.036084, -118.321241], [27.047324, -82.269336], [34.081681, -117.731455], [35.792897, -78.76367900000002], [43.392363, -123.35763], [37.630708, -122.11386], [38.878943, -76.99619100000002], [34.00394, -117.83022], [34.104962, -117.533974], [42.955613, -124.106386], [34.134891, -117.601486], [41.09578, -73.93725], [40.025952, -111.500488], [25.869213, -80.208313], [36.808141, -119.887182], [40.55975, -74.29564], [45.595225, -117.747398], [28.027303000000003, -82.055418], [33.736247, -84.730925], [27.051762, -82.397042], [29.82507, -95.56364], [28.603622, -81.407066], [34.559134, -82.685395], [31.76864, -106.42581], [33.850659, -117.874083], [34.068290000000005, -118.03763], [30.350836, -97.561494], [40.75475, -73.54974], [39.04658, -76.98701], [33.99845, -117.36951], [39.24739, -76.68415999999998], [40.03236, -81.45168000000002], [41.83508, -87.63058000000002], [38.717373, -104.818744], [40.69824000000001, -74.22639000000002], [33.99888, -117.37094], [41.031089, -111.94763], [40.75121, -73.96560500000002], [28.535168, -81.381273], [25.762659, -80.320616], [39.85576, -104.98695], [34.469054, -117.34628], [25.734056, -80.287787], [38.361855, -75.168356], [44.32541, -95.1272], [41.760274, -72.665258], [40.97704, -75.135401], [41.113489, -74.09943299999998], [42.23528, -87.856224], [37.49267, -77.397642], [43.011592, -74.857331], [40.828385, -73.84033000000002], [44.953586, -93.092914], [38.93278, -111.84646], [32.289032, -90.237523], [40.719784, -73.833864], [28.455438, -81.364856], [45.05912, -123.59145], [26.0626, -80.16445999999998], [33.93583, -118.09295], [40.676922, -77.417238], [30.00784, -90.21461], [40.528146, -121.036044], [42.05687, -88.00295], [26.547438, -81.790236], [38.75072, -75.97676], [28.555047, -81.55930699999998], [42.927045, -73.80233299999998], [33.43592, -111.9444], [34.36128, -118.50558], [36.927698, -120.837947], [25.810617, -80.14191600000002], [33.643351, -79.18284399999997], [40.615142, -73.97425799999998], [34.018842, -118.196657], [42.38964, -73.82624], [39.028665, -76.983276], [34.04674, -118.2148], [34.07213, -118.0975], [32.770021, -117.13981499999998], [25.94244, -80.20528], [38.86888, -77.309081], [34.005185, -117.829276], [27.72697, -80.54640400000002], [37.56149, -77.37557], [37.580619, -121.319978], [40.937745, -106.223882], [38.563052, -121.493242], [35.434672, -82.531458], [29.997955, -90.044203], [28.944692, -82.00189], [36.74156, -119.815046], [47.61389000000001, -122.32982], [25.915448, -80.210143], [34.0405, -118.19232], [33.78153, -84.39121], [45.583723, -118.593217], [42.442173, -87.854764], [33.43592, -111.91646], [39.878035, -75.351265], [35.545266, -84.569696], [34.0007, -118.280793], [41.942774, -73.44093000000002], [33.969716, -118.22242], [33.960014, -118.280502], [29.77082, -95.17329], [30.339367, -97.863947], [28.08242000000001, -82.41363], [33.721994, -84.39468199999997], [40.779945, -73.92698100000001], [40.49225300000001, -111.412625], [34.027238, -118.432203], [35.23944, -80.85226999999998], [34.035628, -118.367077], [38.562124, -121.514428], [27.494875, -82.620355], [33.622591, -117.09748], [37.89807, -122.09116000000002], [42.369261, -71.064012], [32.859938, -96.655156], [28.065897, -82.738771], [30.382338, -97.687359], [43.05957100000001, -76.562186], [36.14788, -95.91352], [43.426712, -116.047531], [45.26923, -122.3109], [27.9645, -82.54634], [28.497159000000003, -81.444345], [40.724227, -111.916928], [33.931405, -117.289075], [40.73991, -73.84558], [32.837140000000005, -97.04145], [28.60259000000001, -81.31508199999998], [28.565755, -81.20743], [25.73778, -80.38459], [37.968988, -122.507968], [37.359288, -77.431375], [40.623347, -74.083535], [28.407493, -81.40349], [41.155656, -112.024767], [40.289874, -111.72582], [34.86886, -80.1778], [38.463982, -77.405451], [37.79524, -122.46959], [36.664713, -78.133167], [34.070163, -117.759327], [44.378459, -121.17823], [26.10786, -80.355108], [38.620555, -121.267368], [32.767443, -97.318592], [41.292043, -96.154597], [34.0912, -80.85491], [38.785603, -77.178637], [36.288069, -121.195272], [28.42106, -81.43136], [34.020355, -118.037522], [37.966228, -122.323096], [36.15732, -86.781112], [45.40004, -120.78952], [33.745481, -84.389279], [34.019236, -117.492692], [45.832682, -112.68702], [36.99254000000001, -120.90836000000002], [26.428333, -81.78052199999998], [39.525686, -107.762821], [30.314578000000004, -81.668233], [39.865183, -105.239847], [39.212903, -120.779957], [43.175545, -75.525217], [40.24851, -75.242768], [32.677942, -97.098895], [38.11898, -85.78333], [33.990804, -117.934529], [35.83531, -83.18140600000002], [40.891538, -111.896561], [39.76209, -84.19435], [39.780373, -123.831523], [43.996092, -121.33231], [33.837123, -117.296373], [42.34662, -91.47999], [37.98701, -121.25076], [40.485502, -111.897631], [38.454845, -120.867759], [37.973388, -122.61988], [43.273997, -73.639002], [25.886218, -80.216773], [32.74514, -96.81326], [33.961586, -118.369524], [37.329021, -121.841801], [34.138467, -117.242715], [39.80955, -84.22640899999998], [35.77658, -78.74640500000002], [34.053894, -118.23438], [35.167068, -84.92771], [33.734766, -117.992141], [25.760855, -80.43579100000002], [25.866297, -80.24238199999998], [36.494013, -119.787559], [27.90137600000001, -82.782625], [41.705, -72.6446], [30.139153000000004, -89.867961], [34.182554, -118.172153], [41.108533, -78.537552], [42.153564, -87.988268], [35.00318, -85.143376], [40.423003, -80.106092], [25.936972, -80.126634], [33.198799, -117.374738], [38.872988, -77.445451], [42.989254, -85.620237], [40.306536, -76.833124], [37.48200300000001, -121.935499], [37.783197, -121.195691], [47.4435, -122.26778], [45.037667, -93.042212], [44.432127, -92.88157], [48.50844, -122.36805], [25.696424, -80.385779], [33.989594, -80.207001], [37.65166, -122.098664], [40.87297, -74.063633], [40.735119, -74.056585], [33.971825, -118.3778], [40.244726, -75.599002], [29.616033, -95.21599], [30.498482, -97.583602], [43.19478, -77.806917], [35.567395, -121.100255], [29.972341, -90.065887], [37.129885, -93.459902], [29.672459000000003, -95.276085], [34.558728, -88.228443], [41.715639, -71.47149399999998], [34.224731, -81.95217], [33.331222, -117.236272], [32.81233, -96.79121], [39.99883, -83.11811], [37.965244, -121.69606], [45.042167, -93.3305], [27.72697, -80.54640400000002], [37.269969, -121.946128], [25.759967, -80.385428], [39.67849, -104.96878999999998], [41.392982, -122.375854]],\n",
              "                {&quot;blur&quot;: 15, &quot;maxZoom&quot;: 18, &quot;minOpacity&quot;: 0.5, &quot;radius&quot;: 25}\n",
              "            ).addTo(map_617e8b5c82f1263cdc1be15cf304adb5);\n",
              "        \n",
              "&lt;/script&gt;\n",
              "&lt;/html&gt;\" style=\"position:absolute;width:100%;height:100%;left:0;top:0;border:none !important;\" allowfullscreen webkitallowfullscreen mozallowfullscreen></iframe></div></div>"
            ],
            "text/plain": [
              "<folium.folium.Map at 0x7f99d671e450>"
            ]
          },
          "execution_count": 68,
          "metadata": {},
          "output_type": "execute_result"
        }
      ],
      "source": [
        "map = folium.Map()\n",
        "HeatMap(lat_lon_pairs).add_to(map)\n",
        "map"
      ]
    },
    {
      "cell_type": "code",
      "execution_count": null,
      "metadata": {
        "id": "aF0_auAvuX0m"
      },
      "outputs": [],
      "source": []
    },
    {
      "cell_type": "markdown",
      "metadata": {
        "id": "osqK4NkVO-R8"
      },
      "source": [
        "##Ask and answer questions about the data"
      ]
    },
    {
      "cell_type": "markdown",
      "metadata": {
        "id": "FFRf_VpPjyEz"
      },
      "source": [
        "- Are there more accidents in colder or warmer area?\n",
        "- Which 5 state has the highest number of accidents? How about per capital?\n",
        "- Does New York show up in the data? If yes, why is the count lower if this is the most populated city.\n",
        "- Among the top 100 cities, what are the number of accident each has?\n",
        "- What time of the day are accidents most frequent in?\n",
        "- Which day of the week has the most frequent accidents?\n",
        "- Which month has the most accidents?\n",
        "- When is accidents per unit of traffic the highes?"
      ]
    },
    {
      "cell_type": "code",
      "execution_count": 29,
      "metadata": {
        "id": "7kaKU-AzPFHB"
      },
      "outputs": [],
      "source": []
    },
    {
      "cell_type": "markdown",
      "metadata": {
        "id": "mGciB3XSOU9J"
      },
      "source": [
        "##Summary and conclusions"
      ]
    },
    {
      "cell_type": "markdown",
      "metadata": {
        "id": "ey83WgVYbTUh"
      },
      "source": [
        "Insights:\n",
        "\n",
        "- No data for New York\n",
        "- Less than 5% of the cities have more than a 1000 accidents\n",
        "- Over 1200 cities has reported just 1 accident(need to investigate)"
      ]
    },
    {
      "cell_type": "code",
      "execution_count": 30,
      "metadata": {
        "id": "q09Gf4c_MxbI"
      },
      "outputs": [],
      "source": [
        "#import jovian"
      ]
    },
    {
      "cell_type": "code",
      "execution_count": 1,
      "metadata": {
        "id": "TM22Bz9RMxbJ"
      },
      "outputs": [],
      "source": [
        "# Execute this to save new versions of the notebook\n",
        "#jovian.commit(project=\"us-accident-analysis\")\n",
        "\n",
        "#end of project"
      ]
    },
    {
      "cell_type": "code",
      "execution_count": null,
      "metadata": {},
      "outputs": [],
      "source": []
    }
  ],
  "metadata": {
    "colab": {
      "collapsed_sections": [],
      "provenance": []
    },
    "kernelspec": {
      "display_name": "Python 3.9.13 ('base')",
      "language": "python",
      "name": "python3"
    },
    "language_info": {
      "codemirror_mode": {
        "name": "ipython",
        "version": 3
      },
      "file_extension": ".py",
      "mimetype": "text/x-python",
      "name": "python",
      "nbconvert_exporter": "python",
      "pygments_lexer": "ipython3",
      "version": "3.9.13"
    },
    "vscode": {
      "interpreter": {
        "hash": "2a3dc5f1e33ff34b670661527fa3b2e9f8bbc79ab2de1e61761b10443b9fa433"
      }
    }
  },
  "nbformat": 4,
  "nbformat_minor": 0
}
